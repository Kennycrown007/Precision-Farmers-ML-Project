{
 "cells": [
  {
   "cell_type": "code",
   "execution_count": 1,
   "metadata": {
    "colab": {
     "base_uri": "https://localhost:8080/",
     "height": 0
    },
    "id": "Ksda3sF6rhSE",
    "outputId": "b4568b6c-83a3-4271-957d-d7227d74a7e1"
   },
   "outputs": [],
   "source": [
    "#from google.colab import drive\n",
    "#drive.mount('/content/drive')"
   ]
  },
  {
   "cell_type": "markdown",
   "metadata": {
    "id": "U596SYgZsehd"
   },
   "source": [
    "# Step 1: Import Libraries"
   ]
  },
  {
   "cell_type": "code",
   "execution_count": 2,
   "metadata": {
    "id": "J4UVRhnesloo"
   },
   "outputs": [],
   "source": [
    "import numpy as np\n",
    "import pandas as pd\n",
    "import matplotlib.pyplot as plt\n",
    "import seaborn as sns\n",
    "import os\n",
    "\n",
    "# Modeling\n",
    "from sklearn.model_selection import train_test_split, cross_val_score, GridSearchCV, KFold\n",
    "from sklearn.preprocessing import StandardScaler, OrdinalEncoder\n",
    "from sklearn.linear_model import LinearRegression, LogisticRegression, RidgeCV\n",
    "from sklearn.ensemble import RandomForestRegressor, RandomForestClassifier\n",
    "from xgboost import XGBRegressor\n",
    "from mord import LogisticIT\n",
    "from sklearn.metrics import accuracy_score, confusion_matrix, classification_report\n",
    "\n",
    "# Metrics\n",
    "from sklearn.metrics import mean_squared_error, r2_score\n",
    "\n",
    "# Stats\n",
    "from scipy import stats\n",
    "from scipy.stats import shapiro\n",
    "import statsmodels.api as sm\n",
    "from statsmodels.stats.multicomp import pairwise_tukeyhsd\n",
    "from statsmodels.stats.outliers_influence import variance_inflation_factor\n",
    "from statsmodels.stats.stattools import durbin_watson\n",
    "\n",
    "# SHAP\n",
    "import shap"
   ]
  },
  {
   "cell_type": "markdown",
   "metadata": {
    "id": "HJNw2fUQsuzy"
   },
   "source": [
    "# Step 2: Load the dataset"
   ]
  },
  {
   "cell_type": "code",
   "execution_count": 3,
   "metadata": {
    "colab": {
     "base_uri": "https://localhost:8080/",
     "height": 223
    },
    "id": "VF_iIyCdsro3",
    "outputId": "37a6edbc-1095-478c-e169-090d88412f69"
   },
   "outputs": [
    {
     "data": {
      "text/html": [
       "<div>\n",
       "<style scoped>\n",
       "    .dataframe tbody tr th:only-of-type {\n",
       "        vertical-align: middle;\n",
       "    }\n",
       "\n",
       "    .dataframe tbody tr th {\n",
       "        vertical-align: top;\n",
       "    }\n",
       "\n",
       "    .dataframe thead th {\n",
       "        text-align: right;\n",
       "    }\n",
       "</style>\n",
       "<table border=\"1\" class=\"dataframe\">\n",
       "  <thead>\n",
       "    <tr style=\"text-align: right;\">\n",
       "      <th></th>\n",
       "      <th>Farmer ID</th>\n",
       "      <th>Technology Adoption Level</th>\n",
       "      <th>Crop Yield</th>\n",
       "      <th>Labor Hours</th>\n",
       "      <th>Financial Investment in Technology</th>\n",
       "      <th>Perceived Well-being</th>\n",
       "      <th>Environmental Impact Metrics</th>\n",
       "    </tr>\n",
       "  </thead>\n",
       "  <tbody>\n",
       "    <tr>\n",
       "      <th>0</th>\n",
       "      <td>F01127</td>\n",
       "      <td>NaN</td>\n",
       "      <td>3.657347</td>\n",
       "      <td>1251.843684</td>\n",
       "      <td>6342.097206</td>\n",
       "      <td>7.0</td>\n",
       "      <td>74.618754</td>\n",
       "    </tr>\n",
       "    <tr>\n",
       "      <th>1</th>\n",
       "      <td>F10846</td>\n",
       "      <td>Full</td>\n",
       "      <td>5.470678</td>\n",
       "      <td>565.616891</td>\n",
       "      <td>131.970358</td>\n",
       "      <td>5.0</td>\n",
       "      <td>74.878932</td>\n",
       "    </tr>\n",
       "    <tr>\n",
       "      <th>2</th>\n",
       "      <td>F08887</td>\n",
       "      <td>Partial</td>\n",
       "      <td>4.931889</td>\n",
       "      <td>1448.417467</td>\n",
       "      <td>3274.956322</td>\n",
       "      <td>6.0</td>\n",
       "      <td>67.696773</td>\n",
       "    </tr>\n",
       "    <tr>\n",
       "      <th>3</th>\n",
       "      <td>F09207</td>\n",
       "      <td>Partial</td>\n",
       "      <td>3.555740</td>\n",
       "      <td>879.411591</td>\n",
       "      <td>890.995607</td>\n",
       "      <td>7.0</td>\n",
       "      <td>54.222245</td>\n",
       "    </tr>\n",
       "    <tr>\n",
       "      <th>4</th>\n",
       "      <td>F00029</td>\n",
       "      <td>Partial</td>\n",
       "      <td>4.914841</td>\n",
       "      <td>1255.951865</td>\n",
       "      <td>981.738815</td>\n",
       "      <td>4.0</td>\n",
       "      <td>48.920666</td>\n",
       "    </tr>\n",
       "  </tbody>\n",
       "</table>\n",
       "</div>"
      ],
      "text/plain": [
       "  Farmer ID Technology Adoption Level  Crop Yield  Labor Hours  \\\n",
       "0    F01127                       NaN    3.657347  1251.843684   \n",
       "1    F10846                      Full    5.470678   565.616891   \n",
       "2    F08887                   Partial    4.931889  1448.417467   \n",
       "3    F09207                   Partial    3.555740   879.411591   \n",
       "4    F00029                   Partial    4.914841  1255.951865   \n",
       "\n",
       "   Financial Investment in Technology  Perceived Well-being  \\\n",
       "0                         6342.097206                   7.0   \n",
       "1                          131.970358                   5.0   \n",
       "2                         3274.956322                   6.0   \n",
       "3                          890.995607                   7.0   \n",
       "4                          981.738815                   4.0   \n",
       "\n",
       "   Environmental Impact Metrics  \n",
       "0                     74.618754  \n",
       "1                     74.878932  \n",
       "2                     67.696773  \n",
       "3                     54.222245  \n",
       "4                     48.920666  "
      ]
     },
     "execution_count": 3,
     "metadata": {},
     "output_type": "execute_result"
    }
   ],
   "source": [
    "df = pd.read_excel('INSS 795 Project Hypothetical Farmers_data.xlsx')\n",
    "df.head()"
   ]
  },
  {
   "cell_type": "markdown",
   "metadata": {
    "id": "bXlo_7WXszGr"
   },
   "source": [
    "# Step 3: Data Cleaning"
   ]
  },
  {
   "cell_type": "markdown",
   "metadata": {
    "id": "sHjbEXzOulCA"
   },
   "source": [
    "## Drop duplicates recods"
   ]
  },
  {
   "cell_type": "code",
   "execution_count": 4,
   "metadata": {
    "id": "LgISGlDMtMjn"
   },
   "outputs": [],
   "source": [
    "df = df.drop_duplicates()"
   ]
  },
  {
   "cell_type": "markdown",
   "metadata": {
    "id": "sYjhiXnyvOJQ"
   },
   "source": [
    "## Check missing values"
   ]
  },
  {
   "cell_type": "code",
   "execution_count": 5,
   "metadata": {
    "colab": {
     "base_uri": "https://localhost:8080/",
     "height": 0
    },
    "id": "srAKTtnbuvCM",
    "outputId": "fc2cd596-0100-470d-87cf-e1ed6bae7948"
   },
   "outputs": [
    {
     "name": "stdout",
     "output_type": "stream",
     "text": [
      "Missing values per column:\n",
      " Farmer ID                                0\n",
      "Technology Adoption Level             3345\n",
      "Crop Yield                            1095\n",
      "Labor Hours                           1091\n",
      "Financial Investment in Technology    1032\n",
      "Perceived Well-being                   544\n",
      "Environmental Impact Metrics           534\n",
      "dtype: int64\n"
     ]
    }
   ],
   "source": [
    "print(\"Missing values per column:\\n\", df.isnull().sum())"
   ]
  },
  {
   "cell_type": "markdown",
   "metadata": {
    "id": "v-wExrzLvdQW"
   },
   "source": [
    "## Fill missing values with median for numerical data"
   ]
  },
  {
   "cell_type": "code",
   "execution_count": 6,
   "metadata": {
    "id": "rFai8lvSvVM2"
   },
   "outputs": [],
   "source": [
    "num_cols = ['Labor Hours', 'Financial Investment in Technology', 'Environmental Impact Metrics', 'Crop Yield']\n",
    "df[num_cols] = df[num_cols].apply(lambda x: x.fillna(x.median()))"
   ]
  },
  {
   "cell_type": "markdown",
   "metadata": {
    "id": "uWBy2OokvmAI"
   },
   "source": [
    "## Drop rows with missing ordinal data"
   ]
  },
  {
   "cell_type": "code",
   "execution_count": 7,
   "metadata": {
    "id": "2hX5OTzQvktJ"
   },
   "outputs": [],
   "source": [
    "df = df.dropna(subset=['Perceived Well-being'])"
   ]
  },
  {
   "cell_type": "markdown",
   "metadata": {
    "id": "La0GNfCsvumv"
   },
   "source": [
    "# Step 4: Data Transformation"
   ]
  },
  {
   "cell_type": "markdown",
   "metadata": {
    "id": "tOSLvG_Uv3i5"
   },
   "source": [
    "## Encoding"
   ]
  },
  {
   "cell_type": "code",
   "execution_count": 8,
   "metadata": {
    "colab": {
     "base_uri": "https://localhost:8080/",
     "height": 0
    },
    "id": "jYuKDzATxjec",
    "outputId": "6db86d68-12df-4393-9f97-b6915f00d32e"
   },
   "outputs": [],
   "source": [
    "df['Technology Adoption Level'] = df['Technology Adoption Level'].fillna('None')\n",
    "encoder = OrdinalEncoder(categories=[['None', 'Partial', 'Full']])\n",
    "df['Tech_Level_Encoded'] = encoder.fit_transform(df[['Technology Adoption Level']])"
   ]
  },
  {
   "cell_type": "markdown",
   "metadata": {
    "id": "tCHtMHqsx4xE"
   },
   "source": [
    "## Normalize numerical features"
   ]
  },
  {
   "cell_type": "code",
   "execution_count": 9,
   "metadata": {
    "id": "NvHx9knvwBnk"
   },
   "outputs": [],
   "source": [
    "scaler = StandardScaler()\n",
    "scaled_cols = ['Labor Hours', 'Financial Investment in Technology', 'Environmental Impact Metrics']\n",
    "df[scaled_cols] = scaler.fit_transform(df[scaled_cols])"
   ]
  },
  {
   "cell_type": "markdown",
   "metadata": {},
   "source": [
    "## Classification Model Setup"
   ]
  },
  {
   "cell_type": "markdown",
   "metadata": {},
   "source": [
    "### ---- Ordinal Regression Target ----"
   ]
  },
  {
   "cell_type": "code",
   "execution_count": 10,
   "metadata": {},
   "outputs": [],
   "source": [
    "y_ord = df['Perceived Well-being'].astype(int)"
   ]
  },
  {
   "cell_type": "markdown",
   "metadata": {},
   "source": [
    "### ---- Classification Target (3 classes) ----"
   ]
  },
  {
   "cell_type": "code",
   "execution_count": 11,
   "metadata": {},
   "outputs": [],
   "source": [
    "def map_wellbeing(val):\n",
    "    if val < 4:\n",
    "        return 'Low'\n",
    "    elif val <= 7:\n",
    "        return 'Moderate'\n",
    "    else:\n",
    "        return 'High'\n",
    "\n",
    "df['Wellbeing_Class'] = df['Perceived Well-being'].apply(map_wellbeing)\n",
    "y_cls = df['Wellbeing_Class']"
   ]
  },
  {
   "cell_type": "code",
   "execution_count": null,
   "metadata": {},
   "outputs": [],
   "source": []
  },
  {
   "cell_type": "markdown",
   "metadata": {
    "id": "9oYQOgin04Uh"
   },
   "source": [
    "# Step 5: Exploration Analysis"
   ]
  },
  {
   "cell_type": "markdown",
   "metadata": {
    "id": "-ApVssCC09Bm"
   },
   "source": [
    "## Correlation Heatmap"
   ]
  },
  {
   "cell_type": "code",
   "execution_count": 12,
   "metadata": {
    "colab": {
     "base_uri": "https://localhost:8080/",
     "height": 773
    },
    "id": "sOvRCMro0Wql",
    "outputId": "71e7f941-8e7b-4643-838e-5aeb266abf9f"
   },
   "outputs": [
    {
     "data": {
      "image/png": "[encoded data removed]",
      "text/plain": [
       "<Figure size 1000x600 with 2 Axes>"
      ]
     },
     "metadata": {},
     "output_type": "display_data"
    }
   ],
   "source": [
    "corr = df[['Tech_Level_Encoded'] + scaled_cols + ['Crop Yield']].corr()\n",
    "plt.figure(figsize=(10, 6))\n",
    "sns.heatmap(corr, annot=True, cmap='coolwarm')\n",
    "plt.title(\"Correlation Matrix\")\n",
    "plt.show()"
   ]
  },
  {
   "cell_type": "markdown",
   "metadata": {
    "id": "NnOzgRmp1Fiu"
   },
   "source": [
    "## Boxplot: Technology Adoption vs Crop Yield"
   ]
  },
  {
   "cell_type": "code",
   "execution_count": 13,
   "metadata": {
    "colab": {
     "base_uri": "https://localhost:8080/",
     "height": 579
    },
    "id": "oZm84-3L1CmD",
    "outputId": "c3cd4a4c-7ec2-4259-83f9-8e9511f20299"
   },
   "outputs": [
    {
     "name": "stderr",
     "output_type": "stream",
     "text": [
      "C:\\Users\\HP\\AppData\\Local\\Temp\\ipykernel_13016\\1453220391.py:1: FutureWarning: \n",
      "\n",
      "Passing `palette` without assigning `hue` is deprecated and will be removed in v0.14.0. Assign the `x` variable to `hue` and set `legend=False` for the same effect.\n",
      "\n",
      "  sns.boxplot(data=df, x='Technology Adoption Level', y='Crop Yield', palette='Set3')\n"
     ]
    },
    {
     "data": {
      "image/png": "[encoded data removed]",
      "text/plain": [
       "<Figure size 640x480 with 1 Axes>"
      ]
     },
     "metadata": {},
     "output_type": "display_data"
    }
   ],
   "source": [
    "sns.boxplot(data=df, x='Technology Adoption Level', y='Crop Yield', palette='Set3')\n",
    "plt.title(\"Crop Yield vs Tech Level\")\n",
    "plt.show()"
   ]
  },
  {
   "cell_type": "markdown",
   "metadata": {
    "id": "4NGddBYV1QhA"
   },
   "source": [
    "## Distribution of Perceived Well-being"
   ]
  },
  {
   "cell_type": "code",
   "execution_count": 14,
   "metadata": {
    "colab": {
     "base_uri": "https://localhost:8080/",
     "height": 579
    },
    "id": "TKAp5zkN1KqP",
    "outputId": "e58e9ace-97c8-49db-86b6-c83cc4a2582c"
   },
   "outputs": [
    {
     "name": "stderr",
     "output_type": "stream",
     "text": [
      "C:\\Users\\HP\\AppData\\Local\\Temp\\ipykernel_13016\\1038490961.py:1: FutureWarning: \n",
      "\n",
      "Passing `palette` without assigning `hue` is deprecated and will be removed in v0.14.0. Assign the `x` variable to `hue` and set `legend=False` for the same effect.\n",
      "\n",
      "  sns.countplot(data=df, x='Perceived Well-being', palette='viridis')\n"
     ]
    },
    {
     "data": {
      "image/png": "[encoded data removed]",
      "text/plain": [
       "<Figure size 640x480 with 1 Axes>"
      ]
     },
     "metadata": {},
     "output_type": "display_data"
    }
   ],
   "source": [
    "sns.countplot(data=df, x='Perceived Well-being', palette='viridis')\n",
    "plt.title(\"Distribution of Perceived Well-being\")\n",
    "plt.show()"
   ]
  },
  {
   "cell_type": "markdown",
   "metadata": {
    "id": "Zl7-Zq5Ex_8A"
   },
   "source": [
    "# Step 6: Experiment"
   ]
  },
  {
   "cell_type": "markdown",
   "metadata": {
    "id": "H0gnvenby0Pm"
   },
   "source": [
    "## Spliting the Data Linear Regression: Crop Yield"
   ]
  },
  {
   "cell_type": "code",
   "execution_count": 15,
   "metadata": {
    "id": "UnyhupIByS_r"
   },
   "outputs": [],
   "source": [
    "features = ['Tech_Level_Encoded', 'Labor Hours', 'Financial Investment in Technology', 'Environmental Impact Metrics']\n",
    "X_reg = df[features]\n",
    "y_reg = df['Crop Yield']\n",
    "\n",
    "X_train_reg, X_test_reg, y_train_reg, y_test_reg = train_test_split(X_reg, y_reg, test_size=0.2, random_state=42)"
   ]
  },
  {
   "cell_type": "markdown",
   "metadata": {},
   "source": [
    "## Spliting the Data Clssification Regression: Perceived Well-being"
   ]
  },
  {
   "cell_type": "code",
   "execution_count": 16,
   "metadata": {},
   "outputs": [],
   "source": [
    "X = df[features]\n",
    "\n",
    "# Ordinal Regression\n",
    "X_train_ord, X_test_ord, y_train_ord, y_test_ord = train_test_split(X, y_ord, test_size=0.2, random_state=42)\n",
    "\n",
    "# Classification\n",
    "X_train_cls, X_test_cls, y_train_cls, y_test_cls = train_test_split(X, y_cls, test_size=0.2, random_state=42)"
   ]
  },
  {
   "cell_type": "markdown",
   "metadata": {
    "id": "65ieaoFSzQtW"
   },
   "source": [
    "## Train Regression Model"
   ]
  },
  {
   "cell_type": "code",
   "execution_count": 17,
   "metadata": {
    "colab": {
     "base_uri": "https://localhost:8080/",
     "height": 0
    },
    "id": "IKercWtuzPHj",
    "outputId": "810d6f0a-f6cd-4e02-bcbb-547006032f2b"
   },
   "outputs": [
    {
     "name": "stdout",
     "output_type": "stream",
     "text": [
      "Linear Regression trained successfully.\n",
      "Random Forest trained successfully.\n",
      "XGBoost trained successfully.\n"
     ]
    }
   ],
   "source": [
    "regressors = {\n",
    "    \"Linear Regression\": LinearRegression(),\n",
    "    \"Random Forest\": RandomForestRegressor(n_estimators=100, random_state=42),\n",
    "    \"XGBoost\": XGBRegressor(n_estimators=100, random_state=42)\n",
    "}\n",
    "\n",
    "# Train regression models\n",
    "for name, model in regressors.items():\n",
    "    model.fit(X_train_reg, y_train_reg)\n",
    "    print(f\"{name} trained successfully.\")"
   ]
  },
  {
   "cell_type": "markdown",
   "metadata": {},
   "source": [
    "## Train Ordinal Logistic Regression (LogisticIT)"
   ]
  },
  {
   "cell_type": "code",
   "execution_count": 18,
   "metadata": {},
   "outputs": [
    {
     "data": {
      "text/html": [
       "<style>#sk-container-id-1 {\n",
       "  /* Definition of color scheme common for light and dark mode */\n",
       "  --sklearn-color-text: black;\n",
       "  --sklearn-color-line: gray;\n",
       "  /* Definition of color scheme for unfitted estimators */\n",
       "  --sklearn-color-unfitted-level-0: #fff5e6;\n",
       "  --sklearn-color-unfitted-level-1: #f6e4d2;\n",
       "  --sklearn-color-unfitted-level-2: #ffe0b3;\n",
       "  --sklearn-color-unfitted-level-3: chocolate;\n",
       "  /* Definition of color scheme for fitted estimators */\n",
       "  --sklearn-color-fitted-level-0: #f0f8ff;\n",
       "  --sklearn-color-fitted-level-1: #d4ebff;\n",
       "  --sklearn-color-fitted-level-2: #b3dbfd;\n",
       "  --sklearn-color-fitted-level-3: cornflowerblue;\n",
       "\n",
       "  /* Specific color for light theme */\n",
       "  --sklearn-color-text-on-default-background: var(--sg-text-color, var(--theme-code-foreground, var(--jp-content-font-color1, black)));\n",
       "  --sklearn-color-background: var(--sg-background-color, var(--theme-background, var(--jp-layout-color0, white)));\n",
       "  --sklearn-color-border-box: var(--sg-text-color, var(--theme-code-foreground, var(--jp-content-font-color1, black)));\n",
       "  --sklearn-color-icon: #696969;\n",
       "\n",
       "  @media (prefers-color-scheme: dark) {\n",
       "    /* Redefinition of color scheme for dark theme */\n",
       "    --sklearn-color-text-on-default-background: var(--sg-text-color, var(--theme-code-foreground, var(--jp-content-font-color1, white)));\n",
       "    --sklearn-color-background: var(--sg-background-color, var(--theme-background, var(--jp-layout-color0, #111)));\n",
       "    --sklearn-color-border-box: var(--sg-text-color, var(--theme-code-foreground, var(--jp-content-font-color1, white)));\n",
       "    --sklearn-color-icon: #878787;\n",
       "  }\n",
       "}\n",
       "\n",
       "#sk-container-id-1 {\n",
       "  color: var(--sklearn-color-text);\n",
       "}\n",
       "\n",
       "#sk-container-id-1 pre {\n",
       "  padding: 0;\n",
       "}\n",
       "\n",
       "#sk-container-id-1 input.sk-hidden--visually {\n",
       "  border: 0;\n",
       "  clip: rect(1px 1px 1px 1px);\n",
       "  clip: rect(1px, 1px, 1px, 1px);\n",
       "  height: 1px;\n",
       "  margin: -1px;\n",
       "  overflow: hidden;\n",
       "  padding: 0;\n",
       "  position: absolute;\n",
       "  width: 1px;\n",
       "}\n",
       "\n",
       "#sk-container-id-1 div.sk-dashed-wrapped {\n",
       "  border: 1px dashed var(--sklearn-color-line);\n",
       "  margin: 0 0.4em 0.5em 0.4em;\n",
       "  box-sizing: border-box;\n",
       "  padding-bottom: 0.4em;\n",
       "  background-color: var(--sklearn-color-background);\n",
       "}\n",
       "\n",
       "#sk-container-id-1 div.sk-container {\n",
       "  /* jupyter's `normalize.less` sets `[hidden] { display: none; }`\n",
       "     but bootstrap.min.css set `[hidden] { display: none !important; }`\n",
       "     so we also need the `!important` here to be able to override the\n",
       "     default hidden behavior on the sphinx rendered scikit-learn.org.\n",
       "     See: https://github.com/scikit-learn/scikit-learn/issues/21755 */\n",
       "  display: inline-block !important;\n",
       "  position: relative;\n",
       "}\n",
       "\n",
       "#sk-container-id-1 div.sk-text-repr-fallback {\n",
       "  display: none;\n",
       "}\n",
       "\n",
       "div.sk-parallel-item,\n",
       "div.sk-serial,\n",
       "div.sk-item {\n",
       "  /* draw centered vertical line to link estimators */\n",
       "  background-image: linear-gradient(var(--sklearn-color-text-on-default-background), var(--sklearn-color-text-on-default-background));\n",
       "  background-size: 2px 100%;\n",
       "  background-repeat: no-repeat;\n",
       "  background-position: center center;\n",
       "}\n",
       "\n",
       "/* Parallel-specific style estimator block */\n",
       "\n",
       "#sk-container-id-1 div.sk-parallel-item::after {\n",
       "  content: \"\";\n",
       "  width: 100%;\n",
       "  border-bottom: 2px solid var(--sklearn-color-text-on-default-background);\n",
       "  flex-grow: 1;\n",
       "}\n",
       "\n",
       "#sk-container-id-1 div.sk-parallel {\n",
       "  display: flex;\n",
       "  align-items: stretch;\n",
       "  justify-content: center;\n",
       "  background-color: var(--sklearn-color-background);\n",
       "  position: relative;\n",
       "}\n",
       "\n",
       "#sk-container-id-1 div.sk-parallel-item {\n",
       "  display: flex;\n",
       "  flex-direction: column;\n",
       "}\n",
       "\n",
       "#sk-container-id-1 div.sk-parallel-item:first-child::after {\n",
       "  align-self: flex-end;\n",
       "  width: 50%;\n",
       "}\n",
       "\n",
       "#sk-container-id-1 div.sk-parallel-item:last-child::after {\n",
       "  align-self: flex-start;\n",
       "  width: 50%;\n",
       "}\n",
       "\n",
       "#sk-container-id-1 div.sk-parallel-item:only-child::after {\n",
       "  width: 0;\n",
       "}\n",
       "\n",
       "/* Serial-specific style estimator block */\n",
       "\n",
       "#sk-container-id-1 div.sk-serial {\n",
       "  display: flex;\n",
       "  flex-direction: column;\n",
       "  align-items: center;\n",
       "  background-color: var(--sklearn-color-background);\n",
       "  padding-right: 1em;\n",
       "  padding-left: 1em;\n",
       "}\n",
       "\n",
       "\n",
       "/* Toggleable style: style used for estimator/Pipeline/ColumnTransformer box that is\n",
       "clickable and can be expanded/collapsed.\n",
       "- Pipeline and ColumnTransformer use this feature and define the default style\n",
       "- Estimators will overwrite some part of the style using the `sk-estimator` class\n",
       "*/\n",
       "\n",
       "/* Pipeline and ColumnTransformer style (default) */\n",
       "\n",
       "#sk-container-id-1 div.sk-toggleable {\n",
       "  /* Default theme specific background. It is overwritten whether we have a\n",
       "  specific estimator or a Pipeline/ColumnTransformer */\n",
       "  background-color: var(--sklearn-color-background);\n",
       "}\n",
       "\n",
       "/* Toggleable label */\n",
       "#sk-container-id-1 label.sk-toggleable__label {\n",
       "  cursor: pointer;\n",
       "  display: block;\n",
       "  width: 100%;\n",
       "  margin-bottom: 0;\n",
       "  padding: 0.5em;\n",
       "  box-sizing: border-box;\n",
       "  text-align: center;\n",
       "}\n",
       "\n",
       "#sk-container-id-1 label.sk-toggleable__label-arrow:before {\n",
       "  /* Arrow on the left of the label */\n",
       "  content: \"▸\";\n",
       "  float: left;\n",
       "  margin-right: 0.25em;\n",
       "  color: var(--sklearn-color-icon);\n",
       "}\n",
       "\n",
       "#sk-container-id-1 label.sk-toggleable__label-arrow:hover:before {\n",
       "  color: var(--sklearn-color-text);\n",
       "}\n",
       "\n",
       "/* Toggleable content - dropdown */\n",
       "\n",
       "#sk-container-id-1 div.sk-toggleable__content {\n",
       "  max-height: 0;\n",
       "  max-width: 0;\n",
       "  overflow: hidden;\n",
       "  text-align: left;\n",
       "  /* unfitted */\n",
       "  background-color: var(--sklearn-color-unfitted-level-0);\n",
       "}\n",
       "\n",
       "#sk-container-id-1 div.sk-toggleable__content.fitted {\n",
       "  /* fitted */\n",
       "  background-color: var(--sklearn-color-fitted-level-0);\n",
       "}\n",
       "\n",
       "#sk-container-id-1 div.sk-toggleable__content pre {\n",
       "  margin: 0.2em;\n",
       "  border-radius: 0.25em;\n",
       "  color: var(--sklearn-color-text);\n",
       "  /* unfitted */\n",
       "  background-color: var(--sklearn-color-unfitted-level-0);\n",
       "}\n",
       "\n",
       "#sk-container-id-1 div.sk-toggleable__content.fitted pre {\n",
       "  /* unfitted */\n",
       "  background-color: var(--sklearn-color-fitted-level-0);\n",
       "}\n",
       "\n",
       "#sk-container-id-1 input.sk-toggleable__control:checked~div.sk-toggleable__content {\n",
       "  /* Expand drop-down */\n",
       "  max-height: 200px;\n",
       "  max-width: 100%;\n",
       "  overflow: auto;\n",
       "}\n",
       "\n",
       "#sk-container-id-1 input.sk-toggleable__control:checked~label.sk-toggleable__label-arrow:before {\n",
       "  content: \"▾\";\n",
       "}\n",
       "\n",
       "/* Pipeline/ColumnTransformer-specific style */\n",
       "\n",
       "#sk-container-id-1 div.sk-label input.sk-toggleable__control:checked~label.sk-toggleable__label {\n",
       "  color: var(--sklearn-color-text);\n",
       "  background-color: var(--sklearn-color-unfitted-level-2);\n",
       "}\n",
       "\n",
       "#sk-container-id-1 div.sk-label.fitted input.sk-toggleable__control:checked~label.sk-toggleable__label {\n",
       "  background-color: var(--sklearn-color-fitted-level-2);\n",
       "}\n",
       "\n",
       "/* Estimator-specific style */\n",
       "\n",
       "/* Colorize estimator box */\n",
       "#sk-container-id-1 div.sk-estimator input.sk-toggleable__control:checked~label.sk-toggleable__label {\n",
       "  /* unfitted */\n",
       "  background-color: var(--sklearn-color-unfitted-level-2);\n",
       "}\n",
       "\n",
       "#sk-container-id-1 div.sk-estimator.fitted input.sk-toggleable__control:checked~label.sk-toggleable__label {\n",
       "  /* fitted */\n",
       "  background-color: var(--sklearn-color-fitted-level-2);\n",
       "}\n",
       "\n",
       "#sk-container-id-1 div.sk-label label.sk-toggleable__label,\n",
       "#sk-container-id-1 div.sk-label label {\n",
       "  /* The background is the default theme color */\n",
       "  color: var(--sklearn-color-text-on-default-background);\n",
       "}\n",
       "\n",
       "/* On hover, darken the color of the background */\n",
       "#sk-container-id-1 div.sk-label:hover label.sk-toggleable__label {\n",
       "  color: var(--sklearn-color-text);\n",
       "  background-color: var(--sklearn-color-unfitted-level-2);\n",
       "}\n",
       "\n",
       "/* Label box, darken color on hover, fitted */\n",
       "#sk-container-id-1 div.sk-label.fitted:hover label.sk-toggleable__label.fitted {\n",
       "  color: var(--sklearn-color-text);\n",
       "  background-color: var(--sklearn-color-fitted-level-2);\n",
       "}\n",
       "\n",
       "/* Estimator label */\n",
       "\n",
       "#sk-container-id-1 div.sk-label label {\n",
       "  font-family: monospace;\n",
       "  font-weight: bold;\n",
       "  display: inline-block;\n",
       "  line-height: 1.2em;\n",
       "}\n",
       "\n",
       "#sk-container-id-1 div.sk-label-container {\n",
       "  text-align: center;\n",
       "}\n",
       "\n",
       "/* Estimator-specific */\n",
       "#sk-container-id-1 div.sk-estimator {\n",
       "  font-family: monospace;\n",
       "  border: 1px dotted var(--sklearn-color-border-box);\n",
       "  border-radius: 0.25em;\n",
       "  box-sizing: border-box;\n",
       "  margin-bottom: 0.5em;\n",
       "  /* unfitted */\n",
       "  background-color: var(--sklearn-color-unfitted-level-0);\n",
       "}\n",
       "\n",
       "#sk-container-id-1 div.sk-estimator.fitted {\n",
       "  /* fitted */\n",
       "  background-color: var(--sklearn-color-fitted-level-0);\n",
       "}\n",
       "\n",
       "/* on hover */\n",
       "#sk-container-id-1 div.sk-estimator:hover {\n",
       "  /* unfitted */\n",
       "  background-color: var(--sklearn-color-unfitted-level-2);\n",
       "}\n",
       "\n",
       "#sk-container-id-1 div.sk-estimator.fitted:hover {\n",
       "  /* fitted */\n",
       "  background-color: var(--sklearn-color-fitted-level-2);\n",
       "}\n",
       "\n",
       "/* Specification for estimator info (e.g. \"i\" and \"?\") */\n",
       "\n",
       "/* Common style for \"i\" and \"?\" */\n",
       "\n",
       ".sk-estimator-doc-link,\n",
       "a:link.sk-estimator-doc-link,\n",
       "a:visited.sk-estimator-doc-link {\n",
       "  float: right;\n",
       "  font-size: smaller;\n",
       "  line-height: 1em;\n",
       "  font-family: monospace;\n",
       "  background-color: var(--sklearn-color-background);\n",
       "  border-radius: 1em;\n",
       "  height: 1em;\n",
       "  width: 1em;\n",
       "  text-decoration: none !important;\n",
       "  margin-left: 1ex;\n",
       "  /* unfitted */\n",
       "  border: var(--sklearn-color-unfitted-level-1) 1pt solid;\n",
       "  color: var(--sklearn-color-unfitted-level-1);\n",
       "}\n",
       "\n",
       ".sk-estimator-doc-link.fitted,\n",
       "a:link.sk-estimator-doc-link.fitted,\n",
       "a:visited.sk-estimator-doc-link.fitted {\n",
       "  /* fitted */\n",
       "  border: var(--sklearn-color-fitted-level-1) 1pt solid;\n",
       "  color: var(--sklearn-color-fitted-level-1);\n",
       "}\n",
       "\n",
       "/* On hover */\n",
       "div.sk-estimator:hover .sk-estimator-doc-link:hover,\n",
       ".sk-estimator-doc-link:hover,\n",
       "div.sk-label-container:hover .sk-estimator-doc-link:hover,\n",
       ".sk-estimator-doc-link:hover {\n",
       "  /* unfitted */\n",
       "  background-color: var(--sklearn-color-unfitted-level-3);\n",
       "  color: var(--sklearn-color-background);\n",
       "  text-decoration: none;\n",
       "}\n",
       "\n",
       "div.sk-estimator.fitted:hover .sk-estimator-doc-link.fitted:hover,\n",
       ".sk-estimator-doc-link.fitted:hover,\n",
       "div.sk-label-container:hover .sk-estimator-doc-link.fitted:hover,\n",
       ".sk-estimator-doc-link.fitted:hover {\n",
       "  /* fitted */\n",
       "  background-color: var(--sklearn-color-fitted-level-3);\n",
       "  color: var(--sklearn-color-background);\n",
       "  text-decoration: none;\n",
       "}\n",
       "\n",
       "/* Span, style for the box shown on hovering the info icon */\n",
       ".sk-estimator-doc-link span {\n",
       "  display: none;\n",
       "  z-index: 9999;\n",
       "  position: relative;\n",
       "  font-weight: normal;\n",
       "  right: .2ex;\n",
       "  padding: .5ex;\n",
       "  margin: .5ex;\n",
       "  width: min-content;\n",
       "  min-width: 20ex;\n",
       "  max-width: 50ex;\n",
       "  color: var(--sklearn-color-text);\n",
       "  box-shadow: 2pt 2pt 4pt #999;\n",
       "  /* unfitted */\n",
       "  background: var(--sklearn-color-unfitted-level-0);\n",
       "  border: .5pt solid var(--sklearn-color-unfitted-level-3);\n",
       "}\n",
       "\n",
       ".sk-estimator-doc-link.fitted span {\n",
       "  /* fitted */\n",
       "  background: var(--sklearn-color-fitted-level-0);\n",
       "  border: var(--sklearn-color-fitted-level-3);\n",
       "}\n",
       "\n",
       ".sk-estimator-doc-link:hover span {\n",
       "  display: block;\n",
       "}\n",
       "\n",
       "/* \"?\"-specific style due to the `<a>` HTML tag */\n",
       "\n",
       "#sk-container-id-1 a.estimator_doc_link {\n",
       "  float: right;\n",
       "  font-size: 1rem;\n",
       "  line-height: 1em;\n",
       "  font-family: monospace;\n",
       "  background-color: var(--sklearn-color-background);\n",
       "  border-radius: 1rem;\n",
       "  height: 1rem;\n",
       "  width: 1rem;\n",
       "  text-decoration: none;\n",
       "  /* unfitted */\n",
       "  color: var(--sklearn-color-unfitted-level-1);\n",
       "  border: var(--sklearn-color-unfitted-level-1) 1pt solid;\n",
       "}\n",
       "\n",
       "#sk-container-id-1 a.estimator_doc_link.fitted {\n",
       "  /* fitted */\n",
       "  border: var(--sklearn-color-fitted-level-1) 1pt solid;\n",
       "  color: var(--sklearn-color-fitted-level-1);\n",
       "}\n",
       "\n",
       "/* On hover */\n",
       "#sk-container-id-1 a.estimator_doc_link:hover {\n",
       "  /* unfitted */\n",
       "  background-color: var(--sklearn-color-unfitted-level-3);\n",
       "  color: var(--sklearn-color-background);\n",
       "  text-decoration: none;\n",
       "}\n",
       "\n",
       "#sk-container-id-1 a.estimator_doc_link.fitted:hover {\n",
       "  /* fitted */\n",
       "  background-color: var(--sklearn-color-fitted-level-3);\n",
       "}\n",
       "</style><div id=\"sk-container-id-1\" class=\"sk-top-container\"><div class=\"sk-text-repr-fallback\"><pre>LogisticIT()</pre><b>In a Jupyter environment, please rerun this cell to show the HTML representation or trust the notebook. <br />On GitHub, the HTML representation is unable to render, please try loading this page with nbviewer.org.</b></div><div class=\"sk-container\" hidden><div class=\"sk-item\"><div class=\"sk-estimator fitted sk-toggleable\"><input class=\"sk-toggleable__control sk-hidden--visually\" id=\"sk-estimator-id-1\" type=\"checkbox\" checked><label for=\"sk-estimator-id-1\" class=\"sk-toggleable__label fitted sk-toggleable__label-arrow fitted\">&nbsp;LogisticIT<span class=\"sk-estimator-doc-link fitted\">i<span>Fitted</span></span></label><div class=\"sk-toggleable__content fitted\"><pre>LogisticIT()</pre></div> </div></div></div></div>"
      ],
      "text/plain": [
       "LogisticIT()"
      ]
     },
     "execution_count": 18,
     "metadata": {},
     "output_type": "execute_result"
    }
   ],
   "source": [
    "ord_model = LogisticIT()\n",
    "ord_model.fit(X_train_ord, y_train_ord)"
   ]
  },
  {
   "cell_type": "code",
   "execution_count": 19,
   "metadata": {},
   "outputs": [],
   "source": [
    "## Train Classification Model (3-Class)"
   ]
  },
  {
   "cell_type": "code",
   "execution_count": 20,
   "metadata": {},
   "outputs": [
    {
     "name": "stdout",
     "output_type": "stream",
     "text": [
      "Logistic Regression trained successfully.\n",
      "Random Forest trained successfully.\n"
     ]
    }
   ],
   "source": [
    "classifiers = {\n",
    "    \"Logistic Regression\": LogisticRegression(max_iter=1000),\n",
    "    \"Random Forest\": RandomForestClassifier(random_state=42)\n",
    "}\n",
    "\n",
    "for name, model in classifiers.items():\n",
    "    model.fit(X_train_cls, y_train_cls)\n",
    "    print(f\"{name} trained successfully.\")"
   ]
  },
  {
   "cell_type": "markdown",
   "metadata": {
    "id": "VMIaPPs2z8cB"
   },
   "source": [
    "# Step 7: Evaluation"
   ]
  },
  {
   "cell_type": "markdown",
   "metadata": {
    "id": "gxCNjJiV0AeT"
   },
   "source": [
    "## Regression Metrics"
   ]
  },
  {
   "cell_type": "code",
   "execution_count": 21,
   "metadata": {
    "colab": {
     "base_uri": "https://localhost:8080/",
     "height": 143
    },
    "id": "IBEGvp1x8KkK",
    "outputId": "92d65826-a8ea-421c-85a2-8610a2144e8c"
   },
   "outputs": [
    {
     "data": {
      "text/html": [
       "<div>\n",
       "<style scoped>\n",
       "    .dataframe tbody tr th:only-of-type {\n",
       "        vertical-align: middle;\n",
       "    }\n",
       "\n",
       "    .dataframe tbody tr th {\n",
       "        vertical-align: top;\n",
       "    }\n",
       "\n",
       "    .dataframe thead th {\n",
       "        text-align: right;\n",
       "    }\n",
       "</style>\n",
       "<table border=\"1\" class=\"dataframe\">\n",
       "  <thead>\n",
       "    <tr style=\"text-align: right;\">\n",
       "      <th></th>\n",
       "      <th>Model</th>\n",
       "      <th>RMSE</th>\n",
       "      <th>R² Score</th>\n",
       "    </tr>\n",
       "  </thead>\n",
       "  <tbody>\n",
       "    <tr>\n",
       "      <th>0</th>\n",
       "      <td>Linear Regression</td>\n",
       "      <td>0.991</td>\n",
       "      <td>0.000</td>\n",
       "    </tr>\n",
       "    <tr>\n",
       "      <th>1</th>\n",
       "      <td>Random Forest</td>\n",
       "      <td>1.056</td>\n",
       "      <td>-0.135</td>\n",
       "    </tr>\n",
       "    <tr>\n",
       "      <th>2</th>\n",
       "      <td>XGBoost</td>\n",
       "      <td>1.075</td>\n",
       "      <td>-0.177</td>\n",
       "    </tr>\n",
       "  </tbody>\n",
       "</table>\n",
       "</div>"
      ],
      "text/plain": [
       "               Model   RMSE  R² Score\n",
       "0  Linear Regression  0.991     0.000\n",
       "1      Random Forest  1.056    -0.135\n",
       "2            XGBoost  1.075    -0.177"
      ]
     },
     "execution_count": 21,
     "metadata": {},
     "output_type": "execute_result"
    }
   ],
   "source": [
    "regression_results = []\n",
    "\n",
    "for name, model in regressors.items():\n",
    "    y_pred = model.predict(X_test_reg)\n",
    "    rmse = np.sqrt(mean_squared_error(y_test_reg, y_pred))\n",
    "    r2 = r2_score(y_test_reg, y_pred)\n",
    "    regression_results.append({\n",
    "        'Model': name,\n",
    "        'RMSE': round(rmse, 3),\n",
    "        'R² Score': round(r2, 3)\n",
    "    })\n",
    "\n",
    "regression_results_df = pd.DataFrame(regression_results)\n",
    "regression_results_df"
   ]
  },
  {
   "cell_type": "markdown",
   "metadata": {},
   "source": [
    "## Feature Importance"
   ]
  },
  {
   "cell_type": "code",
   "execution_count": 22,
   "metadata": {
    "colab": {
     "base_uri": "https://localhost:8080/",
     "height": 174
    },
    "id": "M4zBgoGZ_hCN",
    "outputId": "0007149c-0f27-4624-bb64-8a797ff752a1"
   },
   "outputs": [
    {
     "data": {
      "text/html": [
       "<div>\n",
       "<style scoped>\n",
       "    .dataframe tbody tr th:only-of-type {\n",
       "        vertical-align: middle;\n",
       "    }\n",
       "\n",
       "    .dataframe tbody tr th {\n",
       "        vertical-align: top;\n",
       "    }\n",
       "\n",
       "    .dataframe thead th {\n",
       "        text-align: right;\n",
       "    }\n",
       "</style>\n",
       "<table border=\"1\" class=\"dataframe\">\n",
       "  <thead>\n",
       "    <tr style=\"text-align: right;\">\n",
       "      <th></th>\n",
       "      <th>Feature</th>\n",
       "      <th>Importance</th>\n",
       "    </tr>\n",
       "  </thead>\n",
       "  <tbody>\n",
       "    <tr>\n",
       "      <th>3</th>\n",
       "      <td>Environmental Impact Metrics</td>\n",
       "      <td>0.326946</td>\n",
       "    </tr>\n",
       "    <tr>\n",
       "      <th>2</th>\n",
       "      <td>Financial Investment in Technology</td>\n",
       "      <td>0.314123</td>\n",
       "    </tr>\n",
       "    <tr>\n",
       "      <th>1</th>\n",
       "      <td>Labor Hours</td>\n",
       "      <td>0.310985</td>\n",
       "    </tr>\n",
       "    <tr>\n",
       "      <th>0</th>\n",
       "      <td>Tech_Level_Encoded</td>\n",
       "      <td>0.047947</td>\n",
       "    </tr>\n",
       "  </tbody>\n",
       "</table>\n",
       "</div>"
      ],
      "text/plain": [
       "                              Feature  Importance\n",
       "3        Environmental Impact Metrics    0.326946\n",
       "2  Financial Investment in Technology    0.314123\n",
       "1                         Labor Hours    0.310985\n",
       "0                  Tech_Level_Encoded    0.047947"
      ]
     },
     "execution_count": 22,
     "metadata": {},
     "output_type": "execute_result"
    }
   ],
   "source": [
    "rf = regressors['Random Forest']\n",
    "feat_df = pd.DataFrame({'Feature': X_reg.columns, 'Importance': rf.feature_importances_}) \\\n",
    "    .sort_values(by='Importance', ascending=False)\n",
    "\n",
    "# Display the table\n",
    "feat_df"
   ]
  },
  {
   "cell_type": "code",
   "execution_count": 23,
   "metadata": {
    "colab": {
     "base_uri": "https://localhost:8080/",
     "height": 614
    },
    "id": "YaFQ_yFr_oYK",
    "outputId": "ddfe8cd3-3fc7-4030-d166-45313b3968dd"
   },
   "outputs": [
    {
     "data": {
      "image/png": "[encoded data removed]",
      "text/plain": [
       "<Figure size 640x480 with 1 Axes>"
      ]
     },
     "metadata": {},
     "output_type": "display_data"
    }
   ],
   "source": [
    "# Plot Features Importance\n",
    "sns.barplot(data=feat_df, x='Importance', y='Feature')\n",
    "plt.title(\"Random Forest Feature Importance\")\n",
    "plt.show()"
   ]
  },
  {
   "cell_type": "markdown",
   "metadata": {},
   "source": [
    "## Ordinal Logistic Regression (LogisticIT) Metric"
   ]
  },
  {
   "cell_type": "code",
   "execution_count": 24,
   "metadata": {},
   "outputs": [
    {
     "name": "stdout",
     "output_type": "stream",
     "text": [
      "Ordinal Logistic Regression Summary (LogisticIT)\n",
      "\n",
      "Features used: ['Tech_Level_Encoded', 'Labor Hours', 'Financial Investment in Technology', 'Environmental Impact Metrics']\n",
      "\n",
      "Model Coefficients:\n",
      "  Tech_Level_Encoded: -0.0095\n",
      "  Labor Hours: 0.0036\n",
      "  Financial Investment in Technology: -0.0039\n",
      "  Environmental Impact Metrics: -0.0025\n",
      "\n",
      "Thresholds (Theta values):\n",
      "  Threshold 1: -0.0240\n",
      "  Threshold 2: -0.0240\n",
      "  Threshold 3: -0.0240\n",
      "  Threshold 4: -0.0050\n",
      "  Threshold 5: -0.0050\n",
      "  Threshold 6: -0.0050\n",
      "  Threshold 7: -0.0050\n",
      "  Threshold 8: -0.0050\n",
      "  Threshold 9: 0.0266\n",
      "\n",
      "Prediction Accuracy: 0.095\n",
      "\n",
      "Confusion Matrix:\n",
      "[[  5   0   0 120   0   0   0   0  74   0]\n",
      " [  5   0   0 127   0   0   0   0  72   0]\n",
      " [  7   0   0 128   0   0   0   0  67   0]\n",
      " [  9   0   0 124   0   0   0   0  76   0]\n",
      " [  9   0   0 124   0   0   0   0  77   0]\n",
      " [ 10   0   0 118   0   0   0   0  88   0]\n",
      " [  6   0   0 134   0   0   0   0  74   0]\n",
      " [  9   0   0 143   0   0   0   0  69   0]\n",
      " [  9   0   0 132   0   0   0   0  69   0]\n",
      " [  2   0   0 127   0   0   0   0  78   0]]\n"
     ]
    }
   ],
   "source": [
    "y_pred_ord = ord_model.predict(X_test_ord)\n",
    "\n",
    "# Ordinal Logistic Regression Summary (LogisticIT)\n",
    "print(\"Ordinal Logistic Regression Summary (LogisticIT)\\n\")\n",
    "print(\"Features used:\", list(X.columns))\n",
    "\n",
    "# Coefficients\n",
    "print(\"\\nModel Coefficients:\")\n",
    "for feature, coef in zip(X.columns, ord_model.coef_):\n",
    "    print(f\"  {feature}: {coef:.4f}\")\n",
    "\n",
    "# Thresholds (cutpoints between categories)\n",
    "print(\"\\nThresholds (Theta values):\")\n",
    "for i, theta in enumerate(ord_model.theta_):\n",
    "    print(f\"  Threshold {i+1}: {theta:.4f}\")\n",
    "\n",
    "# Accuracy\n",
    "acc = accuracy_score(y_test_ord, y_pred_ord)\n",
    "print(f\"\\nPrediction Accuracy: {acc:.3f}\")\n",
    "\n",
    "# Confusion Matrix\n",
    "print(\"\\nConfusion Matrix:\")\n",
    "print(confusion_matrix(y_test_ord, y_pred_ord))"
   ]
  },
  {
   "cell_type": "markdown",
   "metadata": {
    "id": "y_XZCT9z9_Of"
   },
   "source": [
    "## Classification Model"
   ]
  },
  {
   "cell_type": "code",
   "execution_count": 50,
   "metadata": {
    "id": "GEZAwsd7yhLE"
   },
   "outputs": [
    {
     "data": {
      "text/html": [
       "<div>\n",
       "<style scoped>\n",
       "    .dataframe tbody tr th:only-of-type {\n",
       "        vertical-align: middle;\n",
       "    }\n",
       "\n",
       "    .dataframe tbody tr th {\n",
       "        vertical-align: top;\n",
       "    }\n",
       "\n",
       "    .dataframe thead th {\n",
       "        text-align: right;\n",
       "    }\n",
       "</style>\n",
       "<table border=\"1\" class=\"dataframe\">\n",
       "  <thead>\n",
       "    <tr style=\"text-align: right;\">\n",
       "      <th></th>\n",
       "      <th>Model</th>\n",
       "      <th>Accuracy</th>\n",
       "    </tr>\n",
       "  </thead>\n",
       "  <tbody>\n",
       "    <tr>\n",
       "      <th>0</th>\n",
       "      <td>Logistic Regression</td>\n",
       "      <td>0.406</td>\n",
       "    </tr>\n",
       "    <tr>\n",
       "      <th>1</th>\n",
       "      <td>Random Forest</td>\n",
       "      <td>0.360</td>\n",
       "    </tr>\n",
       "  </tbody>\n",
       "</table>\n",
       "</div>"
      ],
      "text/plain": [
       "                 Model  Accuracy\n",
       "0  Logistic Regression     0.406\n",
       "1        Random Forest     0.360"
      ]
     },
     "execution_count": 50,
     "metadata": {},
     "output_type": "execute_result"
    }
   ],
   "source": [
    "classification_results = []\n",
    "\n",
    "for name, model in classifiers.items():\n",
    "    preds = model.predict(X_test_cls)\n",
    "    acc = accuracy_score(y_test_cls, preds)\n",
    "    classification_results.append({\n",
    "        'Model': name,\n",
    "        'Accuracy': round(acc, 3)\n",
    "    })\n",
    "\n",
    "classification_results_df = pd.DataFrame(classification_results)\n",
    "classification_results_df"
   ]
  },
  {
   "cell_type": "code",
   "execution_count": 67,
   "metadata": {},
   "outputs": [
    {
     "name": "stdout",
     "output_type": "stream",
     "text": [
      "\n",
      "Logistic Regression Classification Results:\n",
      "Accuracy: 0.406\n",
      "Confusion Matrix:\n",
      "[[  0   0 638]\n",
      " [  1   3 601]\n",
      " [  0   3 846]]\n",
      "Classification Report:\n",
      "              precision    recall  f1-score   support\n",
      "\n",
      "        High       0.00      0.00      0.00       638\n",
      "         Low       0.50      0.00      0.01       605\n",
      "    Moderate       0.41      1.00      0.58       849\n",
      "\n",
      "    accuracy                           0.41      2092\n",
      "   macro avg       0.30      0.33      0.20      2092\n",
      "weighted avg       0.31      0.41      0.24      2092\n",
      "\n",
      "\n",
      "Sample Predictions:\n"
     ]
    },
    {
     "data": {
      "text/html": [
       "<div>\n",
       "<style scoped>\n",
       "    .dataframe tbody tr th:only-of-type {\n",
       "        vertical-align: middle;\n",
       "    }\n",
       "\n",
       "    .dataframe tbody tr th {\n",
       "        vertical-align: top;\n",
       "    }\n",
       "\n",
       "    .dataframe thead th {\n",
       "        text-align: right;\n",
       "    }\n",
       "</style>\n",
       "<table border=\"1\" class=\"dataframe\">\n",
       "  <thead>\n",
       "    <tr style=\"text-align: right;\">\n",
       "      <th></th>\n",
       "      <th>Actual</th>\n",
       "      <th>Predicted</th>\n",
       "    </tr>\n",
       "  </thead>\n",
       "  <tbody>\n",
       "    <tr>\n",
       "      <th>0</th>\n",
       "      <td>Moderate</td>\n",
       "      <td>Moderate</td>\n",
       "    </tr>\n",
       "    <tr>\n",
       "      <th>1</th>\n",
       "      <td>Moderate</td>\n",
       "      <td>Moderate</td>\n",
       "    </tr>\n",
       "    <tr>\n",
       "      <th>2</th>\n",
       "      <td>Moderate</td>\n",
       "      <td>Moderate</td>\n",
       "    </tr>\n",
       "    <tr>\n",
       "      <th>3</th>\n",
       "      <td>Low</td>\n",
       "      <td>Moderate</td>\n",
       "    </tr>\n",
       "    <tr>\n",
       "      <th>4</th>\n",
       "      <td>Moderate</td>\n",
       "      <td>Moderate</td>\n",
       "    </tr>\n",
       "    <tr>\n",
       "      <th>5</th>\n",
       "      <td>High</td>\n",
       "      <td>Moderate</td>\n",
       "    </tr>\n",
       "    <tr>\n",
       "      <th>6</th>\n",
       "      <td>High</td>\n",
       "      <td>Moderate</td>\n",
       "    </tr>\n",
       "    <tr>\n",
       "      <th>7</th>\n",
       "      <td>High</td>\n",
       "      <td>Moderate</td>\n",
       "    </tr>\n",
       "    <tr>\n",
       "      <th>8</th>\n",
       "      <td>Low</td>\n",
       "      <td>Moderate</td>\n",
       "    </tr>\n",
       "    <tr>\n",
       "      <th>9</th>\n",
       "      <td>Low</td>\n",
       "      <td>Moderate</td>\n",
       "    </tr>\n",
       "  </tbody>\n",
       "</table>\n",
       "</div>"
      ],
      "text/plain": [
       "     Actual Predicted\n",
       "0  Moderate  Moderate\n",
       "1  Moderate  Moderate\n",
       "2  Moderate  Moderate\n",
       "3       Low  Moderate\n",
       "4  Moderate  Moderate\n",
       "5      High  Moderate\n",
       "6      High  Moderate\n",
       "7      High  Moderate\n",
       "8       Low  Moderate\n",
       "9       Low  Moderate"
      ]
     },
     "metadata": {},
     "output_type": "display_data"
    },
    {
     "name": "stdout",
     "output_type": "stream",
     "text": [
      "\n",
      "Random Forest Classification Results:\n",
      "Accuracy: 0.360\n",
      "Confusion Matrix:\n",
      "[[187 154 297]\n",
      " [164 157 284]\n",
      " [231 209 409]]\n",
      "Classification Report:\n",
      "              precision    recall  f1-score   support\n",
      "\n",
      "        High       0.32      0.29      0.31       638\n",
      "         Low       0.30      0.26      0.28       605\n",
      "    Moderate       0.41      0.48      0.44       849\n",
      "\n",
      "    accuracy                           0.36      2092\n",
      "   macro avg       0.35      0.34      0.34      2092\n",
      "weighted avg       0.35      0.36      0.35      2092\n",
      "\n",
      "\n",
      "Sample Predictions:\n"
     ]
    },
    {
     "data": {
      "text/html": [
       "<div>\n",
       "<style scoped>\n",
       "    .dataframe tbody tr th:only-of-type {\n",
       "        vertical-align: middle;\n",
       "    }\n",
       "\n",
       "    .dataframe tbody tr th {\n",
       "        vertical-align: top;\n",
       "    }\n",
       "\n",
       "    .dataframe thead th {\n",
       "        text-align: right;\n",
       "    }\n",
       "</style>\n",
       "<table border=\"1\" class=\"dataframe\">\n",
       "  <thead>\n",
       "    <tr style=\"text-align: right;\">\n",
       "      <th></th>\n",
       "      <th>Actual</th>\n",
       "      <th>Predicted</th>\n",
       "    </tr>\n",
       "  </thead>\n",
       "  <tbody>\n",
       "    <tr>\n",
       "      <th>0</th>\n",
       "      <td>Moderate</td>\n",
       "      <td>Moderate</td>\n",
       "    </tr>\n",
       "    <tr>\n",
       "      <th>1</th>\n",
       "      <td>Moderate</td>\n",
       "      <td>Moderate</td>\n",
       "    </tr>\n",
       "    <tr>\n",
       "      <th>2</th>\n",
       "      <td>Moderate</td>\n",
       "      <td>Low</td>\n",
       "    </tr>\n",
       "    <tr>\n",
       "      <th>3</th>\n",
       "      <td>Low</td>\n",
       "      <td>Low</td>\n",
       "    </tr>\n",
       "    <tr>\n",
       "      <th>4</th>\n",
       "      <td>Moderate</td>\n",
       "      <td>Moderate</td>\n",
       "    </tr>\n",
       "    <tr>\n",
       "      <th>5</th>\n",
       "      <td>High</td>\n",
       "      <td>Low</td>\n",
       "    </tr>\n",
       "    <tr>\n",
       "      <th>6</th>\n",
       "      <td>High</td>\n",
       "      <td>Low</td>\n",
       "    </tr>\n",
       "    <tr>\n",
       "      <th>7</th>\n",
       "      <td>High</td>\n",
       "      <td>Moderate</td>\n",
       "    </tr>\n",
       "    <tr>\n",
       "      <th>8</th>\n",
       "      <td>Low</td>\n",
       "      <td>Moderate</td>\n",
       "    </tr>\n",
       "    <tr>\n",
       "      <th>9</th>\n",
       "      <td>Low</td>\n",
       "      <td>Low</td>\n",
       "    </tr>\n",
       "  </tbody>\n",
       "</table>\n",
       "</div>"
      ],
      "text/plain": [
       "     Actual Predicted\n",
       "0  Moderate  Moderate\n",
       "1  Moderate  Moderate\n",
       "2  Moderate       Low\n",
       "3       Low       Low\n",
       "4  Moderate  Moderate\n",
       "5      High       Low\n",
       "6      High       Low\n",
       "7      High  Moderate\n",
       "8       Low  Moderate\n",
       "9       Low       Low"
      ]
     },
     "metadata": {},
     "output_type": "display_data"
    }
   ],
   "source": [
    "for name, model in classifiers.items():\n",
    "    print(f\"\\n{name} Classification Results:\")\n",
    "\n",
    "    y_pred_cls = model.predict(X_test_cls)\n",
    "    acc = accuracy_score(y_test_cls, y_pred_cls)\n",
    "    print(f\"Accuracy: {acc:.3f}\")\n",
    "    print(\"Confusion Matrix:\")\n",
    "    print(confusion_matrix(y_test_cls, y_pred_cls))\n",
    "    print(\"Classification Report:\")\n",
    "    print(classification_report(y_test_cls, y_pred_cls))\n",
    "\n",
    "    # Sample predictions\n",
    "    print(\"\\nSample Predictions:\")\n",
    "    sample_df = pd.DataFrame({\n",
    "        \"Actual\": y_test_cls.reset_index(drop=True),\n",
    "        \"Predicted\": y_pred_cls\n",
    "    })\n",
    "    display(sample_df.head(10))"
   ]
  },
  {
   "cell_type": "markdown",
   "metadata": {},
   "source": [
    "# Step 8: Cross-Validation"
   ]
  },
  {
   "cell_type": "markdown",
   "metadata": {},
   "source": [
    "## Cross-Validation for Regression Model"
   ]
  },
  {
   "cell_type": "code",
   "execution_count": 53,
   "metadata": {},
   "outputs": [
    {
     "name": "stdout",
     "output_type": "stream",
     "text": [
      "Linear Regression: CV RMSE = 1.051 ± 0.016\n",
      "Random Forest: CV RMSE = 1.102 ± 0.015\n",
      "XGBoost: CV RMSE = 1.129 ± 0.022\n"
     ]
    }
   ],
   "source": [
    "for name, model in regressors.items():\n",
    "    scores = cross_val_score(model, X_reg, y_reg, cv=5, scoring='neg_root_mean_squared_error')\n",
    "    print(f\"{name}: CV RMSE = {-scores.mean():.3f} ± {scores.std():.3f}\")"
   ]
  },
  {
   "cell_type": "markdown",
   "metadata": {},
   "source": [
    "## Cross-Validation for Ordinal Regression"
   ]
  },
  {
   "cell_type": "code",
   "execution_count": 54,
   "metadata": {},
   "outputs": [
    {
     "name": "stdout",
     "output_type": "stream",
     "text": [
      "\n",
      "Ordinal CV Accuracy: 0.102 ± 0.005\n"
     ]
    }
   ],
   "source": [
    "kf = KFold(n_splits=5, shuffle=True, random_state=42)\n",
    "acc_scores = []\n",
    "for train_idx, val_idx in kf.split(X, y_ord):\n",
    "    model = LogisticIT()\n",
    "    model.fit(X.iloc[train_idx], y_ord.iloc[train_idx])\n",
    "    preds = model.predict(X.iloc[val_idx])\n",
    "    acc_scores.append(accuracy_score(y_ord.iloc[val_idx], preds))\n",
    "\n",
    "print(f\"\\nOrdinal CV Accuracy: {np.mean(acc_scores):.3f} ± {np.std(acc_scores):.3f}\")"
   ]
  },
  {
   "cell_type": "markdown",
   "metadata": {},
   "source": [
    "## Cross-Validation for Classification Model"
   ]
  },
  {
   "cell_type": "code",
   "execution_count": 55,
   "metadata": {},
   "outputs": [
    {
     "name": "stdout",
     "output_type": "stream",
     "text": [
      "Logistic Regression CV Accuracy: 0.397 ± 0.000\n",
      "Random Forest CV Accuracy: 0.348 ± 0.005\n"
     ]
    }
   ],
   "source": [
    "for name, model in classifiers.items():\n",
    "    scores = cross_val_score(model, X, y_cls, cv=5, scoring='accuracy')\n",
    "    print(f\"{name} CV Accuracy: {scores.mean():.3f} ± {scores.std():.3f}\")"
   ]
  },
  {
   "cell_type": "markdown",
   "metadata": {},
   "source": [
    "# Step 9: Hyperparameter Tuning (Random Forest)"
   ]
  },
  {
   "cell_type": "markdown",
   "metadata": {},
   "source": [
    "## Hyperparameter Tuning for Regression metrics"
   ]
  },
  {
   "cell_type": "code",
   "execution_count": 56,
   "metadata": {},
   "outputs": [
    {
     "name": "stdout",
     "output_type": "stream",
     "text": [
      "Best Params: {'max_depth': 5, 'n_estimators': 200}\n",
      "Best CV RMSE: 1.071\n"
     ]
    }
   ],
   "source": [
    "param_grid = {\n",
    "    'n_estimators': [50, 100, 200],\n",
    "    'max_depth': [5, 10, None]\n",
    "}\n",
    "\n",
    "grid = GridSearchCV(RandomForestRegressor(random_state=42),\n",
    "                    param_grid, cv=3, scoring='neg_root_mean_squared_error', n_jobs=-1)\n",
    "grid.fit(X_train_reg, y_train_reg)\n",
    "\n",
    "best_rf_params = grid.best_params_\n",
    "best_rf_rmse = -grid.best_score_\n",
    "\n",
    "print(\"Best Params:\", best_rf_params)\n",
    "print(\"Best CV RMSE:\", round(best_rf_rmse, 3))"
   ]
  },
  {
   "cell_type": "markdown",
   "metadata": {},
   "source": [
    "## Hyperparameter Tuning for Classification Metric"
   ]
  },
  {
   "cell_type": "code",
   "execution_count": 57,
   "metadata": {},
   "outputs": [
    {
     "name": "stdout",
     "output_type": "stream",
     "text": [
      "\n",
      "Best Random Forest Params:\n",
      "{'max_depth': 5, 'n_estimators': 100}\n",
      "Best CV Accuracy: 0.394\n"
     ]
    }
   ],
   "source": [
    "param_grid_rf = {\n",
    "    'n_estimators': [50, 100, 200],\n",
    "    'max_depth': [5, 10, None]\n",
    "}\n",
    "\n",
    "grid_rf = GridSearchCV(RandomForestClassifier(random_state=42),\n",
    "                       param_grid_rf, cv=3, scoring='accuracy', n_jobs=-1)\n",
    "grid_rf.fit(X_train_cls, y_train_cls)\n",
    "\n",
    "print(\"\\nBest Random Forest Params:\")\n",
    "print(grid_rf.best_params_)\n",
    "print(f\"Best CV Accuracy: {grid_rf.best_score_:.3f}\")"
   ]
  },
  {
   "cell_type": "markdown",
   "metadata": {
    "id": "mS8Eb81-1kuY"
   },
   "source": [
    "# Step 10: Post-Hoc ANOVA + Tukey"
   ]
  },
  {
   "cell_type": "markdown",
   "metadata": {},
   "source": [
    "## Crop Yield"
   ]
  },
  {
   "cell_type": "code",
   "execution_count": 58,
   "metadata": {},
   "outputs": [
    {
     "name": "stdout",
     "output_type": "stream",
     "text": [
      "One-Way ANOVA & Tukey HSD for Each Feature (Grouped by Crop Yield)\n",
      "\n",
      "\n",
      "Feature: Tech_Level_Encoded\n",
      "F-Statistic: 1.3844, p-value: 0.25051\n",
      "No significant difference found — skipping Tukey test.\n",
      "\n",
      "Feature: Labor Hours\n",
      "F-Statistic: 0.8726, p-value: 0.41789\n",
      "No significant difference found — skipping Tukey test.\n",
      "\n",
      "Feature: Financial Investment in Technology\n",
      "F-Statistic: 0.2896, p-value: 0.74858\n",
      "No significant difference found — skipping Tukey test.\n",
      "\n",
      "Feature: Environmental Impact Metrics\n",
      "F-Statistic: 0.4320, p-value: 0.64919\n",
      "No significant difference found — skipping Tukey test.\n"
     ]
    },
    {
     "name": "stderr",
     "output_type": "stream",
     "text": [
      "C:\\Users\\HP\\AppData\\Local\\Temp\\ipykernel_13016\\3919898410.py:11: FutureWarning: The default of observed=False is deprecated and will be changed to True in a future version of pandas. Pass observed=False to retain current behavior or observed=True to adopt the future default and silence this warning.\n",
      "  groups = [group[col].values for name, group in df.groupby(group_col)]\n"
     ]
    },
    {
     "data": {
      "text/html": [
       "<div>\n",
       "<style scoped>\n",
       "    .dataframe tbody tr th:only-of-type {\n",
       "        vertical-align: middle;\n",
       "    }\n",
       "\n",
       "    .dataframe tbody tr th {\n",
       "        vertical-align: top;\n",
       "    }\n",
       "\n",
       "    .dataframe thead th {\n",
       "        text-align: right;\n",
       "    }\n",
       "</style>\n",
       "<table border=\"1\" class=\"dataframe\">\n",
       "  <thead>\n",
       "    <tr style=\"text-align: right;\">\n",
       "      <th></th>\n",
       "      <th>Feature</th>\n",
       "      <th>F-Statistic</th>\n",
       "      <th>p-value</th>\n",
       "    </tr>\n",
       "  </thead>\n",
       "  <tbody>\n",
       "    <tr>\n",
       "      <th>0</th>\n",
       "      <td>Tech_Level_Encoded</td>\n",
       "      <td>1.3844</td>\n",
       "      <td>0.25051</td>\n",
       "    </tr>\n",
       "    <tr>\n",
       "      <th>1</th>\n",
       "      <td>Labor Hours</td>\n",
       "      <td>0.8726</td>\n",
       "      <td>0.41789</td>\n",
       "    </tr>\n",
       "    <tr>\n",
       "      <th>2</th>\n",
       "      <td>Financial Investment in Technology</td>\n",
       "      <td>0.2896</td>\n",
       "      <td>0.74858</td>\n",
       "    </tr>\n",
       "    <tr>\n",
       "      <th>3</th>\n",
       "      <td>Environmental Impact Metrics</td>\n",
       "      <td>0.4320</td>\n",
       "      <td>0.64919</td>\n",
       "    </tr>\n",
       "  </tbody>\n",
       "</table>\n",
       "</div>"
      ],
      "text/plain": [
       "                              Feature  F-Statistic  p-value\n",
       "0                  Tech_Level_Encoded       1.3844  0.25051\n",
       "1                         Labor Hours       0.8726  0.41789\n",
       "2  Financial Investment in Technology       0.2896  0.74858\n",
       "3        Environmental Impact Metrics       0.4320  0.64919"
      ]
     },
     "metadata": {},
     "output_type": "display_data"
    }
   ],
   "source": [
    "df['Yield_Category'] = pd.qcut(df['Crop Yield'], q=3, labels=['Low', 'Medium', 'High'])\n",
    "group_col = 'Yield_Category'\n",
    "\n",
    "regression_anova_results = []\n",
    "\n",
    "print(\"One-Way ANOVA & Tukey HSD for Each Feature (Grouped by Crop Yield)\\n\")\n",
    "\n",
    "# Loop through each numeric feature\n",
    "for col in features:\n",
    "    # One-Way ANOVA\n",
    "    groups = [group[col].values for name, group in df.groupby(group_col)]\n",
    "    f_stat, p_val = stats.f_oneway(*groups)\n",
    "    regression_anova_results.append({\n",
    "        'Feature': col,\n",
    "        'F-Statistic': round(f_stat, 4),\n",
    "        'p-value': round(p_val, 5)\n",
    "    })\n",
    "\n",
    "    print(f\"\\nFeature: {col}\")\n",
    "    print(f\"F-Statistic: {f_stat:.4f}, p-value: {p_val:.5f}\")\n",
    "\n",
    "    if p_val < 0.05:\n",
    "        print(\"Significant difference found — performing Tukey HSD:\")\n",
    "        tukey = pairwise_tukeyhsd(endog=df[col], groups=df[group_col], alpha=0.05)\n",
    "        print(tukey)\n",
    "    else:\n",
    "        print(\"No significant difference found — skipping Tukey test.\")\n",
    "\n",
    "# Summary Table\n",
    "regression_anova_df = pd.DataFrame(regression_anova_results)\n",
    "display(regression_anova_df)"
   ]
  },
  {
   "cell_type": "markdown",
   "metadata": {},
   "source": [
    "## Perceived Well-being"
   ]
  },
  {
   "cell_type": "code",
   "execution_count": 59,
   "metadata": {},
   "outputs": [
    {
     "name": "stdout",
     "output_type": "stream",
     "text": [
      "One-Way ANOVA & Tukey HSD for Each Feature (Grouped by Wellbeing_Class)\n",
      "\n",
      "\n",
      "Feature: Tech_Level_Encoded\n",
      "F-Statistic: 1.1725, p-value: 0.30963\n",
      "No significant difference found — skipping Tukey test.\n",
      "\n",
      "Feature: Labor Hours\n",
      "F-Statistic: 0.3121, p-value: 0.73194\n",
      "No significant difference found — skipping Tukey test.\n",
      "\n",
      "Feature: Financial Investment in Technology\n",
      "F-Statistic: 0.8451, p-value: 0.42955\n",
      "No significant difference found — skipping Tukey test.\n",
      "\n",
      "Feature: Environmental Impact Metrics\n",
      "F-Statistic: 0.8103, p-value: 0.44475\n",
      "No significant difference found — skipping Tukey test.\n"
     ]
    },
    {
     "data": {
      "text/html": [
       "<div>\n",
       "<style scoped>\n",
       "    .dataframe tbody tr th:only-of-type {\n",
       "        vertical-align: middle;\n",
       "    }\n",
       "\n",
       "    .dataframe tbody tr th {\n",
       "        vertical-align: top;\n",
       "    }\n",
       "\n",
       "    .dataframe thead th {\n",
       "        text-align: right;\n",
       "    }\n",
       "</style>\n",
       "<table border=\"1\" class=\"dataframe\">\n",
       "  <thead>\n",
       "    <tr style=\"text-align: right;\">\n",
       "      <th></th>\n",
       "      <th>Feature</th>\n",
       "      <th>F-Statistic</th>\n",
       "      <th>p-value</th>\n",
       "    </tr>\n",
       "  </thead>\n",
       "  <tbody>\n",
       "    <tr>\n",
       "      <th>0</th>\n",
       "      <td>Tech_Level_Encoded</td>\n",
       "      <td>1.1725</td>\n",
       "      <td>0.30963</td>\n",
       "    </tr>\n",
       "    <tr>\n",
       "      <th>1</th>\n",
       "      <td>Labor Hours</td>\n",
       "      <td>0.3121</td>\n",
       "      <td>0.73194</td>\n",
       "    </tr>\n",
       "    <tr>\n",
       "      <th>2</th>\n",
       "      <td>Financial Investment in Technology</td>\n",
       "      <td>0.8451</td>\n",
       "      <td>0.42955</td>\n",
       "    </tr>\n",
       "    <tr>\n",
       "      <th>3</th>\n",
       "      <td>Environmental Impact Metrics</td>\n",
       "      <td>0.8103</td>\n",
       "      <td>0.44475</td>\n",
       "    </tr>\n",
       "  </tbody>\n",
       "</table>\n",
       "</div>"
      ],
      "text/plain": [
       "                              Feature  F-Statistic  p-value\n",
       "0                  Tech_Level_Encoded       1.1725  0.30963\n",
       "1                         Labor Hours       0.3121  0.73194\n",
       "2  Financial Investment in Technology       0.8451  0.42955\n",
       "3        Environmental Impact Metrics       0.8103  0.44475"
      ]
     },
     "metadata": {},
     "output_type": "display_data"
    }
   ],
   "source": [
    "group_col = 'Wellbeing_Class'\n",
    "classification_anova_results = []\n",
    "\n",
    "print(\"One-Way ANOVA & Tukey HSD for Each Feature (Grouped by Wellbeing_Class)\\n\")\n",
    "\n",
    "# Loop through each numeric feature\n",
    "for col in features:\n",
    "    # Grouped values for ANOVA\n",
    "    groups = [group[col].values for name, group in df.groupby(group_col)]\n",
    "    \n",
    "    # Perform One-Way ANOVA\n",
    "    f_stat, p_val = stats.f_oneway(*groups)\n",
    "    \n",
    "    # Append results\n",
    "    classification_anova_results.append({\n",
    "        'Feature': col,\n",
    "        'F-Statistic': round(f_stat, 4),\n",
    "        'p-value': round(p_val, 5)\n",
    "    })\n",
    "\n",
    "    print(f\"\\nFeature: {col}\")\n",
    "    print(f\"F-Statistic: {f_stat:.4f}, p-value: {p_val:.5f}\")\n",
    "\n",
    "    if p_val < 0.05:\n",
    "        print(\"Significant difference found — performing Tukey HSD:\")\n",
    "        tukey = pairwise_tukeyhsd(endog=df[col], groups=df[group_col], alpha=0.05)\n",
    "        print(tukey)\n",
    "    else:\n",
    "        print(\"No significant difference found — skipping Tukey test.\")\n",
    "\n",
    "# Summary Table\n",
    "classification_anova_df = pd.DataFrame(classification_anova_results)\n",
    "display(classification_anova_df)"
   ]
  },
  {
   "cell_type": "markdown",
   "metadata": {
    "id": "7MQI4XDe38e5"
   },
   "source": [
    "# Step 11: Assumption Checks"
   ]
  },
  {
   "cell_type": "markdown",
   "metadata": {},
   "source": [
    "##  Linear Model"
   ]
  },
  {
   "cell_type": "code",
   "execution_count": 60,
   "metadata": {
    "colab": {
     "base_uri": "https://localhost:8080/",
     "height": 89
    },
    "id": "HyXIOMFc26Bj",
    "outputId": "d743bbc3-84e2-43df-e09c-df74dfc03e82"
   },
   "outputs": [
    {
     "data": {
      "image/png": "[encoded data removed]",
      "text/plain": [
       "<Figure size 640x480 with 1 Axes>"
      ]
     },
     "metadata": {},
     "output_type": "display_data"
    },
    {
     "data": {
      "image/png": "[encoded data removed]",
      "text/plain": [
       "<Figure size 640x480 with 1 Axes>"
      ]
     },
     "metadata": {},
     "output_type": "display_data"
    },
    {
     "name": "stdout",
     "output_type": "stream",
     "text": [
      "Shapiro-Wilk Test: Statistic = 0.973, p-value = 0.00000\n"
     ]
    },
    {
     "data": {
      "image/png": "[encoded data removed]",
      "text/plain": [
       "<Figure size 640x480 with 1 Axes>"
      ]
     },
     "metadata": {},
     "output_type": "display_data"
    },
    {
     "data": {
      "text/html": [
       "<div>\n",
       "<style scoped>\n",
       "    .dataframe tbody tr th:only-of-type {\n",
       "        vertical-align: middle;\n",
       "    }\n",
       "\n",
       "    .dataframe tbody tr th {\n",
       "        vertical-align: top;\n",
       "    }\n",
       "\n",
       "    .dataframe thead th {\n",
       "        text-align: right;\n",
       "    }\n",
       "</style>\n",
       "<table border=\"1\" class=\"dataframe\">\n",
       "  <thead>\n",
       "    <tr style=\"text-align: right;\">\n",
       "      <th></th>\n",
       "      <th>Feature</th>\n",
       "      <th>VIF</th>\n",
       "    </tr>\n",
       "  </thead>\n",
       "  <tbody>\n",
       "    <tr>\n",
       "      <th>0</th>\n",
       "      <td>Tech_Level_Encoded</td>\n",
       "      <td>1.000464</td>\n",
       "    </tr>\n",
       "    <tr>\n",
       "      <th>1</th>\n",
       "      <td>Labor Hours</td>\n",
       "      <td>1.000012</td>\n",
       "    </tr>\n",
       "    <tr>\n",
       "      <th>2</th>\n",
       "      <td>Financial Investment in Technology</td>\n",
       "      <td>1.000217</td>\n",
       "    </tr>\n",
       "    <tr>\n",
       "      <th>3</th>\n",
       "      <td>Environmental Impact Metrics</td>\n",
       "      <td>1.000407</td>\n",
       "    </tr>\n",
       "  </tbody>\n",
       "</table>\n",
       "</div>"
      ],
      "text/plain": [
       "                              Feature       VIF\n",
       "0                  Tech_Level_Encoded  1.000464\n",
       "1                         Labor Hours  1.000012\n",
       "2  Financial Investment in Technology  1.000217\n",
       "3        Environmental Impact Metrics  1.000407"
      ]
     },
     "metadata": {},
     "output_type": "display_data"
    },
    {
     "name": "stdout",
     "output_type": "stream",
     "text": [
      "Durbin-Watson: 2.079\n"
     ]
    }
   ],
   "source": [
    "X_sm = sm.add_constant(X_train_reg)\n",
    "model_sm = sm.OLS(y_train_reg, X_sm).fit()\n",
    "\n",
    "X_test_sm = sm.add_constant(X_test_reg)\n",
    "y_pred_sm = model_sm.predict(X_test_sm)\n",
    "residuals = y_test_reg - y_pred_sm\n",
    "\n",
    "# Residual Plots\n",
    "sns.histplot(residuals, kde=True)\n",
    "plt.title(\"Residual Histogram\")\n",
    "plt.show()\n",
    "\n",
    "sm.qqplot(residuals, line='45')\n",
    "plt.title(\"Q-Q Plot\")\n",
    "plt.show()\n",
    "\n",
    "stat, p = shapiro(residuals)\n",
    "print(f\"Shapiro-Wilk Test: Statistic = {stat:.3f}, p-value = {p:.5f}\")\n",
    "\n",
    "# Homoscedasticity\n",
    "sns.scatterplot(x=y_pred_sm, y=residuals)\n",
    "plt.axhline(0, color='red', linestyle='--')\n",
    "plt.title(\"Homoscedasticity Check\")\n",
    "plt.show()\n",
    "\n",
    "# VIF\n",
    "X_vif = pd.DataFrame(X_train_reg, columns=features)\n",
    "vif_df = pd.DataFrame()\n",
    "vif_df[\"Feature\"] = X_vif.columns\n",
    "vif_df[\"VIF\"] = [variance_inflation_factor(X_vif.values, i) for i in range(X_vif.shape[1])]\n",
    "display(vif_df)\n",
    "\n",
    "# Durbin-Watson\n",
    "dw = durbin_watson(residuals)\n",
    "print(f\"Durbin-Watson: {dw:.3f}\")"
   ]
  },
  {
   "cell_type": "markdown",
   "metadata": {},
   "source": [
    "## Classification Model"
   ]
  },
  {
   "cell_type": "code",
   "execution_count": 70,
   "metadata": {},
   "outputs": [
    {
     "data": {
      "image/png": "[encoded data removed]",
      "text/plain": [
       "<Figure size 640x480 with 1 Axes>"
      ]
     },
     "metadata": {},
     "output_type": "display_data"
    },
    {
     "data": {
      "image/png": "[encoded data removed]",
      "text/plain": [
       "<Figure size 640x480 with 1 Axes>"
      ]
     },
     "metadata": {},
     "output_type": "display_data"
    },
    {
     "name": "stdout",
     "output_type": "stream",
     "text": [
      "Shapiro-Wilk Test: Statistic = 0.974, p-value = 0.00000\n"
     ]
    },
    {
     "data": {
      "image/png": "[encoded data removed]",
      "text/plain": [
       "<Figure size 640x480 with 1 Axes>"
      ]
     },
     "metadata": {},
     "output_type": "display_data"
    }
   ],
   "source": [
    "# Residual checks on ordinal model\n",
    "residual = y_test_ord - y_pred_ord\n",
    "\n",
    "# Histogram\n",
    "sns.histplot(residual, kde=True)\n",
    "plt.title(\"Residuals - Ordinal Model\")\n",
    "plt.show()\n",
    "\n",
    "# Q-Q plot\n",
    "import statsmodels.api as sm\n",
    "sm.qqplot(residual, line='45')\n",
    "plt.title(\"Q-Q Plot - Ordinal Residuals\")\n",
    "plt.show()\n",
    "\n",
    "stat, p = shapiro(residual)\n",
    "print(f\"Shapiro-Wilk Test: Statistic = {stat:.3f}, p-value = {p:.5f}\")\n",
    "\n",
    "# Homoscedasticity\n",
    "sns.scatterplot(x=y_pred_ord, y=residual)\n",
    "plt.axhline(0, color='red', linestyle='--')\n",
    "plt.title(\"Homoscedasticity Check\")\n",
    "plt.show()"
   ]
  },
  {
   "cell_type": "markdown",
   "metadata": {
    "colab": {
     "base_uri": "https://localhost:8080/",
     "height": 89
    },
    "id": "l-NTFSEw4qAr",
    "outputId": "56f7f351-d409-4761-a98e-4b303ca41674"
   },
   "source": [
    "# Step 12: Ridge + SHAP Interpretability"
   ]
  },
  {
   "cell_type": "code",
   "execution_count": 62,
   "metadata": {
    "colab": {
     "base_uri": "https://localhost:8080/",
     "height": 0
    },
    "id": "tkoNoTXqKqFG",
    "outputId": "eb788198-cd3f-405e-aac0-75cba8e1bb0a"
   },
   "outputs": [
    {
     "name": "stdout",
     "output_type": "stream",
     "text": [
      "Best alpha: 10.0\n",
      "R² Score: 0.00017435848359692585\n"
     ]
    },
    {
     "data": {
      "image/png": "[encoded data removed]",
      "text/plain": [
       "<Figure size 800x310 with 2 Axes>"
      ]
     },
     "metadata": {},
     "output_type": "display_data"
    }
   ],
   "source": [
    "ridge = RidgeCV(alphas=[0.1, 1.0, 10.0], cv=5)\n",
    "ridge.fit(X_train_reg, y_train_reg)\n",
    "print(\"Best alpha:\", ridge.alpha_)\n",
    "print(\"R² Score:\", ridge.score(X_test_reg, y_test_reg))\n",
    "\n",
    "explainer = shap.Explainer(ridge, X_test_reg)\n",
    "shap_values = explainer(X_test_reg)\n",
    "shap.plots.beeswarm(shap_values)"
   ]
  },
  {
   "cell_type": "markdown",
   "metadata": {
    "id": "2YSUYTs2IfX-"
   },
   "source": [
    "# Step 13: Result"
   ]
  },
  {
   "cell_type": "markdown",
   "metadata": {},
   "source": [
    "## Crop Yield Results"
   ]
  },
  {
   "cell_type": "code",
   "execution_count": 72,
   "metadata": {
    "colab": {
     "base_uri": "https://localhost:8080/",
     "height": 1066
    },
    "id": "Nmcbt7MGId3E",
    "outputId": "a999a59c-537b-4ff9-c046-2f3b508d0b06"
   },
   "outputs": [
    {
     "name": "stdout",
     "output_type": "stream",
     "text": [
      "Regression Model Performance (Crop Yield)\n"
     ]
    },
    {
     "data": {
      "text/html": [
       "<div>\n",
       "<style scoped>\n",
       "    .dataframe tbody tr th:only-of-type {\n",
       "        vertical-align: middle;\n",
       "    }\n",
       "\n",
       "    .dataframe tbody tr th {\n",
       "        vertical-align: top;\n",
       "    }\n",
       "\n",
       "    .dataframe thead th {\n",
       "        text-align: right;\n",
       "    }\n",
       "</style>\n",
       "<table border=\"1\" class=\"dataframe\">\n",
       "  <thead>\n",
       "    <tr style=\"text-align: right;\">\n",
       "      <th></th>\n",
       "      <th>Model</th>\n",
       "      <th>RMSE</th>\n",
       "      <th>R² Score</th>\n",
       "    </tr>\n",
       "  </thead>\n",
       "  <tbody>\n",
       "    <tr>\n",
       "      <th>0</th>\n",
       "      <td>Linear Regression</td>\n",
       "      <td>0.991</td>\n",
       "      <td>0.000</td>\n",
       "    </tr>\n",
       "    <tr>\n",
       "      <th>1</th>\n",
       "      <td>Random Forest</td>\n",
       "      <td>1.056</td>\n",
       "      <td>-0.135</td>\n",
       "    </tr>\n",
       "    <tr>\n",
       "      <th>2</th>\n",
       "      <td>XGBoost</td>\n",
       "      <td>1.075</td>\n",
       "      <td>-0.177</td>\n",
       "    </tr>\n",
       "  </tbody>\n",
       "</table>\n",
       "</div>"
      ],
      "text/plain": [
       "               Model   RMSE  R² Score\n",
       "0  Linear Regression  0.991     0.000\n",
       "1      Random Forest  1.056    -0.135\n",
       "2            XGBoost  1.075    -0.177"
      ]
     },
     "metadata": {},
     "output_type": "display_data"
    },
    {
     "name": "stdout",
     "output_type": "stream",
     "text": [
      "\n",
      "Feature Importance (Random Forest)\n"
     ]
    },
    {
     "data": {
      "text/html": [
       "<div>\n",
       "<style scoped>\n",
       "    .dataframe tbody tr th:only-of-type {\n",
       "        vertical-align: middle;\n",
       "    }\n",
       "\n",
       "    .dataframe tbody tr th {\n",
       "        vertical-align: top;\n",
       "    }\n",
       "\n",
       "    .dataframe thead th {\n",
       "        text-align: right;\n",
       "    }\n",
       "</style>\n",
       "<table border=\"1\" class=\"dataframe\">\n",
       "  <thead>\n",
       "    <tr style=\"text-align: right;\">\n",
       "      <th></th>\n",
       "      <th>Feature</th>\n",
       "      <th>Importance</th>\n",
       "    </tr>\n",
       "  </thead>\n",
       "  <tbody>\n",
       "    <tr>\n",
       "      <th>3</th>\n",
       "      <td>Environmental Impact Metrics</td>\n",
       "      <td>0.326946</td>\n",
       "    </tr>\n",
       "    <tr>\n",
       "      <th>2</th>\n",
       "      <td>Financial Investment in Technology</td>\n",
       "      <td>0.314123</td>\n",
       "    </tr>\n",
       "    <tr>\n",
       "      <th>1</th>\n",
       "      <td>Labor Hours</td>\n",
       "      <td>0.310985</td>\n",
       "    </tr>\n",
       "    <tr>\n",
       "      <th>0</th>\n",
       "      <td>Tech_Level_Encoded</td>\n",
       "      <td>0.047947</td>\n",
       "    </tr>\n",
       "  </tbody>\n",
       "</table>\n",
       "</div>"
      ],
      "text/plain": [
       "                              Feature  Importance\n",
       "3        Environmental Impact Metrics    0.326946\n",
       "2  Financial Investment in Technology    0.314123\n",
       "1                         Labor Hours    0.310985\n",
       "0                  Tech_Level_Encoded    0.047947"
      ]
     },
     "metadata": {},
     "output_type": "display_data"
    },
    {
     "name": "stdout",
     "output_type": "stream",
     "text": [
      "\n",
      "ANOVA Test: Crop Yield\n"
     ]
    },
    {
     "data": {
      "text/html": [
       "<div>\n",
       "<style scoped>\n",
       "    .dataframe tbody tr th:only-of-type {\n",
       "        vertical-align: middle;\n",
       "    }\n",
       "\n",
       "    .dataframe tbody tr th {\n",
       "        vertical-align: top;\n",
       "    }\n",
       "\n",
       "    .dataframe thead th {\n",
       "        text-align: right;\n",
       "    }\n",
       "</style>\n",
       "<table border=\"1\" class=\"dataframe\">\n",
       "  <thead>\n",
       "    <tr style=\"text-align: right;\">\n",
       "      <th></th>\n",
       "      <th>Feature</th>\n",
       "      <th>F-Statistic</th>\n",
       "      <th>p-value</th>\n",
       "    </tr>\n",
       "  </thead>\n",
       "  <tbody>\n",
       "    <tr>\n",
       "      <th>0</th>\n",
       "      <td>Tech_Level_Encoded</td>\n",
       "      <td>1.3844</td>\n",
       "      <td>0.25051</td>\n",
       "    </tr>\n",
       "    <tr>\n",
       "      <th>1</th>\n",
       "      <td>Labor Hours</td>\n",
       "      <td>0.8726</td>\n",
       "      <td>0.41789</td>\n",
       "    </tr>\n",
       "    <tr>\n",
       "      <th>2</th>\n",
       "      <td>Financial Investment in Technology</td>\n",
       "      <td>0.2896</td>\n",
       "      <td>0.74858</td>\n",
       "    </tr>\n",
       "    <tr>\n",
       "      <th>3</th>\n",
       "      <td>Environmental Impact Metrics</td>\n",
       "      <td>0.4320</td>\n",
       "      <td>0.64919</td>\n",
       "    </tr>\n",
       "  </tbody>\n",
       "</table>\n",
       "</div>"
      ],
      "text/plain": [
       "                              Feature  F-Statistic  p-value\n",
       "0                  Tech_Level_Encoded       1.3844  0.25051\n",
       "1                         Labor Hours       0.8726  0.41789\n",
       "2  Financial Investment in Technology       0.2896  0.74858\n",
       "3        Environmental Impact Metrics       0.4320  0.64919"
      ]
     },
     "metadata": {},
     "output_type": "display_data"
    },
    {
     "name": "stdout",
     "output_type": "stream",
     "text": [
      "\n",
      "OLS Model Summary\n",
      "                            OLS Regression Results                            \n",
      "==============================================================================\n",
      "Dep. Variable:             Crop Yield   R-squared:                       0.001\n",
      "Model:                            OLS   Adj. R-squared:                  0.000\n",
      "Method:                 Least Squares   F-statistic:                     1.347\n",
      "Date:                Wed, 23 Apr 2025   Prob (F-statistic):              0.250\n",
      "Time:                        10:09:13   Log-Likelihood:                -12397.\n",
      "No. Observations:                8364   AIC:                         2.480e+04\n",
      "Df Residuals:                    8359   BIC:                         2.484e+04\n",
      "Df Model:                           4                                         \n",
      "Covariance Type:            nonrobust                                         \n",
      "======================================================================================================\n",
      "                                         coef    std err          t      P>|t|      [0.025      0.975]\n",
      "------------------------------------------------------------------------------------------------------\n",
      "const                                  3.5663      0.019    188.767      0.000       3.529       3.603\n",
      "Tech_Level_Encoded                    -0.0239      0.017     -1.431      0.152      -0.057       0.009\n",
      "Labor Hours                            0.0084      0.012      0.715      0.475      -0.015       0.031\n",
      "Financial Investment in Technology    -0.0184      0.012     -1.596      0.110      -0.041       0.004\n",
      "Environmental Impact Metrics          -0.0072      0.012     -0.619      0.536      -0.030       0.016\n",
      "==============================================================================\n",
      "Omnibus:                     3569.856   Durbin-Watson:                   1.965\n",
      "Prob(Omnibus):                  0.000   Jarque-Bera (JB):            64666.733\n",
      "Skew:                           1.585   Prob(JB):                         0.00\n",
      "Kurtosis:                      16.248   Cond. No.                         2.93\n",
      "==============================================================================\n",
      "\n",
      "Notes:\n",
      "[1] Standard Errors assume that the covariance matrix of the errors is correctly specified.\n",
      "\n",
      "Ridge Regression Summary\n",
      "Best Alpha: 10.0\n",
      "R² on Test Data: 0.000\n"
     ]
    }
   ],
   "source": [
    "print(\"Regression Model Performance (Crop Yield)\")\n",
    "display(regression_results_df)\n",
    "\n",
    "print(\"\\nFeature Importance (Random Forest)\")\n",
    "display(feat_df)\n",
    "\n",
    "print(\"\\nANOVA Test: Crop Yield\")\n",
    "display(regression_anova_df)\n",
    "\n",
    "print(\"\\nOLS Model Summary\")\n",
    "print(model_sm.summary())\n",
    "\n",
    "print(\"\\nRidge Regression Summary\")\n",
    "print(f\"Best Alpha: {ridge.alpha_}\")\n",
    "print(f\"R² on Test Data: {ridge.score(X_test_reg, y_test_reg):.3f}\")"
   ]
  },
  {
   "cell_type": "markdown",
   "metadata": {},
   "source": [
    "## Perceived Well-being Results"
   ]
  },
  {
   "cell_type": "code",
   "execution_count": 73,
   "metadata": {},
   "outputs": [
    {
     "name": "stdout",
     "output_type": "stream",
     "text": [
      "\n",
      "Ordinal Logistic Regression Summary (LogisticIT)\n",
      "\n",
      "Features used: ['Tech_Level_Encoded', 'Labor Hours', 'Financial Investment in Technology', 'Environmental Impact Metrics']\n",
      "\n",
      "Model Coefficients:\n",
      "  Tech_Level_Encoded: -0.0095\n",
      "  Labor Hours: 0.0036\n",
      "  Financial Investment in Technology: -0.0039\n",
      "  Environmental Impact Metrics: -0.0025\n",
      "\n",
      "Thresholds (Theta values):\n",
      "  Threshold 1: -0.0240\n",
      "  Threshold 2: -0.0240\n",
      "  Threshold 3: -0.0240\n",
      "  Threshold 4: -0.0050\n",
      "  Threshold 5: -0.0050\n",
      "  Threshold 6: -0.0050\n",
      "  Threshold 7: -0.0050\n",
      "  Threshold 8: -0.0050\n",
      "  Threshold 9: 0.0266\n",
      "\n",
      "Ordinal Prediction Accuracy: 0.095\n",
      "\n",
      "Ordinal Confusion Matrix:\n",
      "[[  5   0   0 120   0   0   0   0  74   0]\n",
      " [  5   0   0 127   0   0   0   0  72   0]\n",
      " [  7   0   0 128   0   0   0   0  67   0]\n",
      " [  9   0   0 124   0   0   0   0  76   0]\n",
      " [  9   0   0 124   0   0   0   0  77   0]\n",
      " [ 10   0   0 118   0   0   0   0  88   0]\n",
      " [  6   0   0 134   0   0   0   0  74   0]\n",
      " [  9   0   0 143   0   0   0   0  69   0]\n",
      " [  9   0   0 132   0   0   0   0  69   0]\n",
      " [  2   0   0 127   0   0   0   0  78   0]]\n",
      "\n",
      "Sample Ordinal Predictions:\n"
     ]
    },
    {
     "data": {
      "text/html": [
       "<div>\n",
       "<style scoped>\n",
       "    .dataframe tbody tr th:only-of-type {\n",
       "        vertical-align: middle;\n",
       "    }\n",
       "\n",
       "    .dataframe tbody tr th {\n",
       "        vertical-align: top;\n",
       "    }\n",
       "\n",
       "    .dataframe thead th {\n",
       "        text-align: right;\n",
       "    }\n",
       "</style>\n",
       "<table border=\"1\" class=\"dataframe\">\n",
       "  <thead>\n",
       "    <tr style=\"text-align: right;\">\n",
       "      <th></th>\n",
       "      <th>Actual</th>\n",
       "      <th>Predicted</th>\n",
       "    </tr>\n",
       "  </thead>\n",
       "  <tbody>\n",
       "    <tr>\n",
       "      <th>0</th>\n",
       "      <td>6</td>\n",
       "      <td>9</td>\n",
       "    </tr>\n",
       "    <tr>\n",
       "      <th>1</th>\n",
       "      <td>6</td>\n",
       "      <td>4</td>\n",
       "    </tr>\n",
       "    <tr>\n",
       "      <th>2</th>\n",
       "      <td>4</td>\n",
       "      <td>4</td>\n",
       "    </tr>\n",
       "    <tr>\n",
       "      <th>3</th>\n",
       "      <td>1</td>\n",
       "      <td>4</td>\n",
       "    </tr>\n",
       "    <tr>\n",
       "      <th>4</th>\n",
       "      <td>5</td>\n",
       "      <td>9</td>\n",
       "    </tr>\n",
       "    <tr>\n",
       "      <th>5</th>\n",
       "      <td>10</td>\n",
       "      <td>9</td>\n",
       "    </tr>\n",
       "    <tr>\n",
       "      <th>6</th>\n",
       "      <td>9</td>\n",
       "      <td>4</td>\n",
       "    </tr>\n",
       "    <tr>\n",
       "      <th>7</th>\n",
       "      <td>10</td>\n",
       "      <td>4</td>\n",
       "    </tr>\n",
       "    <tr>\n",
       "      <th>8</th>\n",
       "      <td>1</td>\n",
       "      <td>4</td>\n",
       "    </tr>\n",
       "    <tr>\n",
       "      <th>9</th>\n",
       "      <td>3</td>\n",
       "      <td>4</td>\n",
       "    </tr>\n",
       "  </tbody>\n",
       "</table>\n",
       "</div>"
      ],
      "text/plain": [
       "   Actual  Predicted\n",
       "0       6          9\n",
       "1       6          4\n",
       "2       4          4\n",
       "3       1          4\n",
       "4       5          9\n",
       "5      10          9\n",
       "6       9          4\n",
       "7      10          4\n",
       "8       1          4\n",
       "9       3          4"
      ]
     },
     "metadata": {},
     "output_type": "display_data"
    },
    {
     "name": "stdout",
     "output_type": "stream",
     "text": [
      "\n",
      "Logistic Regression Classification Results:\n",
      "Accuracy: 0.406\n",
      "Confusion Matrix:\n",
      "[[  0   0 638]\n",
      " [  1   3 601]\n",
      " [  0   3 846]]\n",
      "Classification Report:\n",
      "              precision    recall  f1-score   support\n",
      "\n",
      "        High       0.00      0.00      0.00       638\n",
      "         Low       0.50      0.00      0.01       605\n",
      "    Moderate       0.41      1.00      0.58       849\n",
      "\n",
      "    accuracy                           0.41      2092\n",
      "   macro avg       0.30      0.33      0.20      2092\n",
      "weighted avg       0.31      0.41      0.24      2092\n",
      "\n",
      "\n",
      "Sample Predictions:\n"
     ]
    },
    {
     "data": {
      "text/html": [
       "<div>\n",
       "<style scoped>\n",
       "    .dataframe tbody tr th:only-of-type {\n",
       "        vertical-align: middle;\n",
       "    }\n",
       "\n",
       "    .dataframe tbody tr th {\n",
       "        vertical-align: top;\n",
       "    }\n",
       "\n",
       "    .dataframe thead th {\n",
       "        text-align: right;\n",
       "    }\n",
       "</style>\n",
       "<table border=\"1\" class=\"dataframe\">\n",
       "  <thead>\n",
       "    <tr style=\"text-align: right;\">\n",
       "      <th></th>\n",
       "      <th>Actual</th>\n",
       "      <th>Predicted</th>\n",
       "    </tr>\n",
       "  </thead>\n",
       "  <tbody>\n",
       "    <tr>\n",
       "      <th>0</th>\n",
       "      <td>Moderate</td>\n",
       "      <td>Moderate</td>\n",
       "    </tr>\n",
       "    <tr>\n",
       "      <th>1</th>\n",
       "      <td>Moderate</td>\n",
       "      <td>Moderate</td>\n",
       "    </tr>\n",
       "    <tr>\n",
       "      <th>2</th>\n",
       "      <td>Moderate</td>\n",
       "      <td>Moderate</td>\n",
       "    </tr>\n",
       "    <tr>\n",
       "      <th>3</th>\n",
       "      <td>Low</td>\n",
       "      <td>Moderate</td>\n",
       "    </tr>\n",
       "    <tr>\n",
       "      <th>4</th>\n",
       "      <td>Moderate</td>\n",
       "      <td>Moderate</td>\n",
       "    </tr>\n",
       "    <tr>\n",
       "      <th>5</th>\n",
       "      <td>High</td>\n",
       "      <td>Moderate</td>\n",
       "    </tr>\n",
       "    <tr>\n",
       "      <th>6</th>\n",
       "      <td>High</td>\n",
       "      <td>Moderate</td>\n",
       "    </tr>\n",
       "    <tr>\n",
       "      <th>7</th>\n",
       "      <td>High</td>\n",
       "      <td>Moderate</td>\n",
       "    </tr>\n",
       "    <tr>\n",
       "      <th>8</th>\n",
       "      <td>Low</td>\n",
       "      <td>Moderate</td>\n",
       "    </tr>\n",
       "    <tr>\n",
       "      <th>9</th>\n",
       "      <td>Low</td>\n",
       "      <td>Moderate</td>\n",
       "    </tr>\n",
       "  </tbody>\n",
       "</table>\n",
       "</div>"
      ],
      "text/plain": [
       "     Actual Predicted\n",
       "0  Moderate  Moderate\n",
       "1  Moderate  Moderate\n",
       "2  Moderate  Moderate\n",
       "3       Low  Moderate\n",
       "4  Moderate  Moderate\n",
       "5      High  Moderate\n",
       "6      High  Moderate\n",
       "7      High  Moderate\n",
       "8       Low  Moderate\n",
       "9       Low  Moderate"
      ]
     },
     "metadata": {},
     "output_type": "display_data"
    },
    {
     "name": "stdout",
     "output_type": "stream",
     "text": [
      "\n",
      "Random Forest Classification Results:\n",
      "Accuracy: 0.360\n",
      "Confusion Matrix:\n",
      "[[187 154 297]\n",
      " [164 157 284]\n",
      " [231 209 409]]\n",
      "Classification Report:\n",
      "              precision    recall  f1-score   support\n",
      "\n",
      "        High       0.32      0.29      0.31       638\n",
      "         Low       0.30      0.26      0.28       605\n",
      "    Moderate       0.41      0.48      0.44       849\n",
      "\n",
      "    accuracy                           0.36      2092\n",
      "   macro avg       0.35      0.34      0.34      2092\n",
      "weighted avg       0.35      0.36      0.35      2092\n",
      "\n",
      "\n",
      "Sample Predictions:\n"
     ]
    },
    {
     "data": {
      "text/html": [
       "<div>\n",
       "<style scoped>\n",
       "    .dataframe tbody tr th:only-of-type {\n",
       "        vertical-align: middle;\n",
       "    }\n",
       "\n",
       "    .dataframe tbody tr th {\n",
       "        vertical-align: top;\n",
       "    }\n",
       "\n",
       "    .dataframe thead th {\n",
       "        text-align: right;\n",
       "    }\n",
       "</style>\n",
       "<table border=\"1\" class=\"dataframe\">\n",
       "  <thead>\n",
       "    <tr style=\"text-align: right;\">\n",
       "      <th></th>\n",
       "      <th>Actual</th>\n",
       "      <th>Predicted</th>\n",
       "    </tr>\n",
       "  </thead>\n",
       "  <tbody>\n",
       "    <tr>\n",
       "      <th>0</th>\n",
       "      <td>Moderate</td>\n",
       "      <td>Moderate</td>\n",
       "    </tr>\n",
       "    <tr>\n",
       "      <th>1</th>\n",
       "      <td>Moderate</td>\n",
       "      <td>Moderate</td>\n",
       "    </tr>\n",
       "    <tr>\n",
       "      <th>2</th>\n",
       "      <td>Moderate</td>\n",
       "      <td>Low</td>\n",
       "    </tr>\n",
       "    <tr>\n",
       "      <th>3</th>\n",
       "      <td>Low</td>\n",
       "      <td>Low</td>\n",
       "    </tr>\n",
       "    <tr>\n",
       "      <th>4</th>\n",
       "      <td>Moderate</td>\n",
       "      <td>Moderate</td>\n",
       "    </tr>\n",
       "    <tr>\n",
       "      <th>5</th>\n",
       "      <td>High</td>\n",
       "      <td>Low</td>\n",
       "    </tr>\n",
       "    <tr>\n",
       "      <th>6</th>\n",
       "      <td>High</td>\n",
       "      <td>Low</td>\n",
       "    </tr>\n",
       "    <tr>\n",
       "      <th>7</th>\n",
       "      <td>High</td>\n",
       "      <td>Moderate</td>\n",
       "    </tr>\n",
       "    <tr>\n",
       "      <th>8</th>\n",
       "      <td>Low</td>\n",
       "      <td>Moderate</td>\n",
       "    </tr>\n",
       "    <tr>\n",
       "      <th>9</th>\n",
       "      <td>Low</td>\n",
       "      <td>Low</td>\n",
       "    </tr>\n",
       "  </tbody>\n",
       "</table>\n",
       "</div>"
      ],
      "text/plain": [
       "     Actual Predicted\n",
       "0  Moderate  Moderate\n",
       "1  Moderate  Moderate\n",
       "2  Moderate       Low\n",
       "3       Low       Low\n",
       "4  Moderate  Moderate\n",
       "5      High       Low\n",
       "6      High       Low\n",
       "7      High  Moderate\n",
       "8       Low  Moderate\n",
       "9       Low       Low"
      ]
     },
     "metadata": {},
     "output_type": "display_data"
    },
    {
     "name": "stdout",
     "output_type": "stream",
     "text": [
      "\n",
      "Ordinal Logistic Regression CV Accuracy:\n",
      "Mean: 0.102 ± 0.005\n",
      "Logistic Regression Classification CV Accuracy: 0.397 ± 0.000\n",
      "Random Forest Classification CV Accuracy: 0.348 ± 0.005\n",
      "\n",
      "Best Hyperparameters (Random Forest Classifier):\n",
      "{'max_depth': 5, 'n_estimators': 100}\n",
      "Best CV Accuracy: 0.394\n",
      "\n",
      "One-Way ANOVA: Perceived Well-being\n"
     ]
    },
    {
     "data": {
      "text/html": [
       "<div>\n",
       "<style scoped>\n",
       "    .dataframe tbody tr th:only-of-type {\n",
       "        vertical-align: middle;\n",
       "    }\n",
       "\n",
       "    .dataframe tbody tr th {\n",
       "        vertical-align: top;\n",
       "    }\n",
       "\n",
       "    .dataframe thead th {\n",
       "        text-align: right;\n",
       "    }\n",
       "</style>\n",
       "<table border=\"1\" class=\"dataframe\">\n",
       "  <thead>\n",
       "    <tr style=\"text-align: right;\">\n",
       "      <th></th>\n",
       "      <th>Feature</th>\n",
       "      <th>F-Statistic</th>\n",
       "      <th>p-value</th>\n",
       "    </tr>\n",
       "  </thead>\n",
       "  <tbody>\n",
       "    <tr>\n",
       "      <th>0</th>\n",
       "      <td>Tech_Level_Encoded</td>\n",
       "      <td>1.1725</td>\n",
       "      <td>0.30963</td>\n",
       "    </tr>\n",
       "    <tr>\n",
       "      <th>1</th>\n",
       "      <td>Labor Hours</td>\n",
       "      <td>0.3121</td>\n",
       "      <td>0.73194</td>\n",
       "    </tr>\n",
       "    <tr>\n",
       "      <th>2</th>\n",
       "      <td>Financial Investment in Technology</td>\n",
       "      <td>0.8451</td>\n",
       "      <td>0.42955</td>\n",
       "    </tr>\n",
       "    <tr>\n",
       "      <th>3</th>\n",
       "      <td>Environmental Impact Metrics</td>\n",
       "      <td>0.8103</td>\n",
       "      <td>0.44475</td>\n",
       "    </tr>\n",
       "  </tbody>\n",
       "</table>\n",
       "</div>"
      ],
      "text/plain": [
       "                              Feature  F-Statistic  p-value\n",
       "0                  Tech_Level_Encoded       1.1725  0.30963\n",
       "1                         Labor Hours       0.3121  0.73194\n",
       "2  Financial Investment in Technology       0.8451  0.42955\n",
       "3        Environmental Impact Metrics       0.8103  0.44475"
      ]
     },
     "metadata": {},
     "output_type": "display_data"
    }
   ],
   "source": [
    "# --- 1. Ordinal Logistic Regression Results ---\n",
    "print(\"\\nOrdinal Logistic Regression Summary (LogisticIT)\\n\")\n",
    "print(\"Features used:\", list(X.columns))\n",
    "\n",
    "# Coefficients\n",
    "print(\"\\nModel Coefficients:\")\n",
    "for feature, coef in zip(X.columns, ord_model.coef_):\n",
    "    print(f\"  {feature}: {coef:.4f}\")\n",
    "\n",
    "# Thresholds (theta_)\n",
    "print(\"\\nThresholds (Theta values):\")\n",
    "for i, theta in enumerate(ord_model.theta_):\n",
    "    print(f\"  Threshold {i+1}: {theta:.4f}\")\n",
    "\n",
    "# Accuracy and Confusion Matrix\n",
    "acc_ord = accuracy_score(y_test_ord, y_pred_ord)\n",
    "print(f\"\\nOrdinal Prediction Accuracy: {acc_ord:.3f}\")\n",
    "print(\"\\nOrdinal Confusion Matrix:\")\n",
    "print(confusion_matrix(y_test_ord, y_pred_ord))\n",
    "\n",
    "# Sample predictions\n",
    "print(\"\\nSample Ordinal Predictions:\")\n",
    "ordinal_results_df = pd.DataFrame({\n",
    "    'Actual': y_test_ord.reset_index(drop=True),\n",
    "    'Predicted': y_pred_ord\n",
    "})\n",
    "display(ordinal_results_df.head(10))\n",
    "\n",
    "\n",
    "# --- 2. Classification Results (3-class) ---\n",
    "for name, model in classifiers.items():\n",
    "    print(f\"\\n{name} Classification Results:\")\n",
    "\n",
    "    y_pred_cls = model.predict(X_test_cls)\n",
    "    acc = accuracy_score(y_test_cls, y_pred_cls)\n",
    "    print(f\"Accuracy: {acc:.3f}\")\n",
    "    print(\"Confusion Matrix:\")\n",
    "    print(confusion_matrix(y_test_cls, y_pred_cls))\n",
    "    print(\"Classification Report:\")\n",
    "    print(classification_report(y_test_cls, y_pred_cls))\n",
    "\n",
    "    # Sample predictions\n",
    "    print(\"\\nSample Predictions:\")\n",
    "    sample_df = pd.DataFrame({\n",
    "        \"Actual\": y_test_cls.reset_index(drop=True),\n",
    "        \"Predicted\": y_pred_cls\n",
    "    })\n",
    "    display(sample_df.head(10))\n",
    "\n",
    "\n",
    "# --- 3. Cross-Validation Results ---\n",
    "print(\"\\nOrdinal Logistic Regression CV Accuracy:\")\n",
    "print(f\"Mean: {np.mean(acc_scores):.3f} ± {np.std(acc_scores):.3f}\")\n",
    "\n",
    "for name, model in classifiers.items():\n",
    "    scores = cross_val_score(model, X, y_cls, cv=5, scoring='accuracy')\n",
    "    print(f\"{name} Classification CV Accuracy: {scores.mean():.3f} ± {scores.std():.3f}\")\n",
    "\n",
    "\n",
    "# --- 4. Hyperparameter Tuning (Random Forest Classifier) ---\n",
    "print(\"\\nBest Hyperparameters (Random Forest Classifier):\")\n",
    "print(grid_rf.best_params_)\n",
    "print(f\"Best CV Accuracy: {grid_rf.best_score_:.3f}\")\n",
    "\n",
    "\n",
    "# --- 5. ANOVA & Tukey HSD ---\n",
    "print(\"\\nOne-Way ANOVA: Perceived Well-being\")\n",
    "display(classification_anova_df)"
   ]
  },
  {
   "cell_type": "markdown",
   "metadata": {
    "id": "9lEB7YRcLQdR"
   },
   "source": [
    "# Save and Download Processed Data"
   ]
  },
  {
   "cell_type": "code",
   "execution_count": 65,
   "metadata": {
    "id": "9cLn_euLDNG3"
   },
   "outputs": [],
   "source": [
    "df.to_csv(\"cleaned_farmers_data.csv\", index=False)"
   ]
  }
 ],
 "metadata": {
  "colab": {
   "provenance": []
  },
  "kernelspec": {
   "display_name": "Python 3 (ipykernel)",
   "language": "python",
   "name": "python3"
  },
  "language_info": {
   "codemirror_mode": {
    "name": "ipython",
    "version": 3
   },
   "file_extension": ".py",
   "mimetype": "text/x-python",
   "name": "python",
   "nbconvert_exporter": "python",
   "pygments_lexer": "ipython3",
   "version": "3.12.7"
  }
 },
 "nbformat": 4,
 "nbformat_minor": 4
}
